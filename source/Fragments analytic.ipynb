{
 "cells": [
  {
   "cell_type": "code",
   "execution_count": 1,
   "metadata": {
    "collapsed": true,
    "ExecuteTime": {
     "start_time": "2024-04-26T15:54:22.807590Z",
     "end_time": "2024-04-26T15:54:23.819817Z"
    }
   },
   "outputs": [
    {
     "name": "stderr",
     "output_type": "stream",
     "text": [
      "C:\\Users\\fvdel\\AppData\\Local\\Temp\\ipykernel_640\\3269992828.py:2: DeprecationWarning: \n",
      "Pyarrow will become a required dependency of pandas in the next major release of pandas (pandas 3.0),\n",
      "(to allow more performant data types, such as the Arrow string type, and better interoperability with other libraries)\n",
      "but was not found to be installed on your system.\n",
      "If this would cause problems for you,\n",
      "please provide us feedback at https://github.com/pandas-dev/pandas/issues/54466\n",
      "        \n",
      "  import pandas as pd\n"
     ]
    }
   ],
   "source": [
    "import numpy as np\n",
    "import pandas as pd"
   ]
  },
  {
   "cell_type": "code",
   "execution_count": 5,
   "outputs": [],
   "source": [
    "ch1 = \"ch1\"\n",
    "ch2 = \"ch3\"\n",
    "\n",
    "file_id = 41228"
   ],
   "metadata": {
    "collapsed": false,
    "ExecuteTime": {
     "start_time": "2024-04-06T15:15:07.965417Z",
     "end_time": "2024-04-06T15:15:07.982421Z"
    }
   }
  },
  {
   "cell_type": "code",
   "execution_count": 6,
   "outputs": [
    {
     "data": {
      "text/plain": "     count\nCh        \nch1   1233\nch2   1272\nch3   1200\nch4   1279\nch5   1209\nch6   1256\nch7   1160\nch8   1068",
      "text/html": "<div>\n<style scoped>\n    .dataframe tbody tr th:only-of-type {\n        vertical-align: middle;\n    }\n\n    .dataframe tbody tr th {\n        vertical-align: top;\n    }\n\n    .dataframe thead th {\n        text-align: right;\n    }\n</style>\n<table border=\"1\" class=\"dataframe\">\n  <thead>\n    <tr style=\"text-align: right;\">\n      <th></th>\n      <th>count</th>\n    </tr>\n    <tr>\n      <th>Ch</th>\n      <th></th>\n    </tr>\n  </thead>\n  <tbody>\n    <tr>\n      <th>ch1</th>\n      <td>1233</td>\n    </tr>\n    <tr>\n      <th>ch2</th>\n      <td>1272</td>\n    </tr>\n    <tr>\n      <th>ch3</th>\n      <td>1200</td>\n    </tr>\n    <tr>\n      <th>ch4</th>\n      <td>1279</td>\n    </tr>\n    <tr>\n      <th>ch5</th>\n      <td>1209</td>\n    </tr>\n    <tr>\n      <th>ch6</th>\n      <td>1256</td>\n    </tr>\n    <tr>\n      <th>ch7</th>\n      <td>1160</td>\n    </tr>\n    <tr>\n      <th>ch8</th>\n      <td>1068</td>\n    </tr>\n  </tbody>\n</table>\n</div>"
     },
     "execution_count": 6,
     "metadata": {},
     "output_type": "execute_result"
    }
   ],
   "source": [
    "total_df = pd.read_csv(f\"data_csv/result_fragments/new_new/{file_id} DBS old_cnn_bin_class_12_result_fil_fragments.csv\")\n",
    "fragments_data = pd.read_csv(f\"data_csv/result_data/new_new/{file_id} DBS old_cnn_bin_class_12_result_fil_data.csv\")\n",
    "total_df.groupby([\"Ch\"])[\"Y\"].agg([\"count\"])"
   ],
   "metadata": {
    "collapsed": false,
    "ExecuteTime": {
     "start_time": "2024-04-06T15:15:08.218192Z",
     "end_time": "2024-04-06T15:15:09.159403Z"
    }
   }
  },
  {
   "cell_type": "code",
   "execution_count": 7,
   "outputs": [],
   "source": [
    "# data_ch3 = total_df[total_df.Ch == ch1][[\"Left\", \"Right\"]].to_numpy()\n",
    "# data_ch4 = total_df[total_df.Ch == ch2][[\"Left\", \"Right\"]].to_numpy()\n",
    "#\n",
    "#\n",
    "# def check_edges(edges, l_edge, r_edge):\n",
    "#     return ((edges[0] >= l_edge) and (edges[0] <= r_edge)) or ((edges[1] >= l_edge) and (edges[1] <= r_edge))\n",
    "#\n",
    "#\n",
    "# fragments_indexes = []\n",
    "# for i in range(data_ch3.shape[0]):\n",
    "#     for j in range(data_ch4.shape[0]):\n",
    "#         if check_edges(data_ch4[j], data_ch3[i][0], data_ch3[i][1]) or check_edges(data_ch3[i], data_ch4[j][0],\n",
    "#                                                                                    data_ch4[j][1]):\n",
    "#             fragments_indexes.append([i, j])\n",
    "#\n",
    "# print(len(fragments_indexes))"
   ],
   "metadata": {
    "collapsed": false,
    "ExecuteTime": {
     "start_time": "2024-04-06T15:15:09.160402Z",
     "end_time": "2024-04-06T15:15:09.173525Z"
    }
   }
  },
  {
   "cell_type": "code",
   "execution_count": 8,
   "outputs": [],
   "source": [
    "channels = total_df[\"Ch\"].unique().tolist()"
   ],
   "metadata": {
    "collapsed": false,
    "ExecuteTime": {
     "start_time": "2024-04-06T15:15:09.209415Z",
     "end_time": "2024-04-06T15:15:09.289925Z"
    }
   }
  },
  {
   "cell_type": "code",
   "execution_count": 16,
   "outputs": [
    {
     "name": "stdout",
     "output_type": "stream",
     "text": [
      "91\n"
     ]
    }
   ],
   "source": [
    "data_channels = [total_df[total_df.Ch == ch][[\"Left\", \"Right\"]].to_numpy() for ch in channels]\n",
    "\n",
    "data_ch3 = total_df[total_df.Ch == ch1][[\"Left\", \"Right\"]].to_numpy()\n",
    "data_ch4 = total_df[total_df.Ch == ch2][[\"Left\", \"Right\"]].to_numpy()\n",
    "\n",
    "\n",
    "def check_edges(edges, l_edge, r_edge):\n",
    "    return ((edges[0] >= l_edge) and (edges[0] <= r_edge)) or ((edges[1] >= l_edge) and (edges[1] <= r_edge))\n",
    "\n",
    "\n",
    "fragments_indexes = []\n",
    "for i in range(data_channels[0].shape[0]):\n",
    "    fragment_ch_indexes = []\n",
    "    count_ch = 0\n",
    "    for data_ch in data_channels[1:]:\n",
    "        for j in range(data_ch.shape[0]):\n",
    "            if check_edges(data_ch[j], data_channels[0][i][0], data_channels[0][i][1]) or check_edges(data_channels[0][i], data_ch[j][0],\n",
    "                                                                                       data_ch[j][1]):\n",
    "                fragment_ch_indexes.append(j)\n",
    "                count_ch += 1\n",
    "                break\n",
    "        else:\n",
    "            fragment_ch_indexes.append(np.nan)\n",
    "    # print(len(fragment_ch_indexes), len(data_channels) - 1)\n",
    "    if count_ch >= len(data_channels) // 2:\n",
    "        fragments_indexes.append([i] + fragment_ch_indexes)\n",
    "\n",
    "print(len(fragments_indexes))"
   ],
   "metadata": {
    "collapsed": false,
    "ExecuteTime": {
     "start_time": "2024-04-06T15:27:06.415687Z",
     "end_time": "2024-04-06T15:27:24.561427Z"
    }
   }
  },
  {
   "cell_type": "code",
   "execution_count": 19,
   "outputs": [],
   "source": [
    "fragments_indexes = np.array(fragments_indexes).transpose()\n",
    "\n",
    "for ch_i in range(len(channels)):\n",
    "    fragment_ch_indexes = fragments_indexes[ch_i]\n",
    "    fragment_ch_indexes = fragment_ch_indexes[~np.isnan(fragment_ch_indexes)].astype(int)\n",
    "\n",
    "    fr_data_ch = fragments_data[fragments_data.Ch == channels[ch_i]].to_numpy()\n",
    "    filtered_fragments_data_ch = pd.DataFrame(fr_data_ch[fragment_ch_indexes], columns=fragments_data.columns)\n",
    "\n",
    "    filtered_fragments_data_ch = filtered_fragments_data_ch.drop_duplicates()\n",
    "    filtered_fragments_data_ch.to_csv(f\"data_csv/filtered_data/{file_id}_cnn_v12_result_fil_{channels[ch_i]}_sync_data.csv\", index=False)"
   ],
   "metadata": {
    "collapsed": false,
    "ExecuteTime": {
     "start_time": "2024-04-06T15:28:24.881900Z",
     "end_time": "2024-04-06T15:28:25.770957Z"
    }
   }
  },
  {
   "cell_type": "code",
   "execution_count": 97,
   "outputs": [],
   "source": [
    "# filtered_fragments_data_ch3 = pd.DataFrame(fragments_data.iloc[0], columns=fragments_data.columns)\n",
    "# filtered_fragments_data_ch4 = pd.DataFrame(fragments_data.iloc[0], columns=fragments_data.columns)\n",
    "fr_data_ch3 = fragments_data[fragments_data.Ch == ch1].to_numpy()\n",
    "fr_data_ch4 = fragments_data[fragments_data.Ch == ch2].to_numpy()"
   ],
   "metadata": {
    "collapsed": false,
    "ExecuteTime": {
     "start_time": "2024-04-06T04:43:13.275369Z",
     "end_time": "2024-04-06T04:43:13.397179Z"
    }
   }
  },
  {
   "cell_type": "code",
   "execution_count": 98,
   "outputs": [],
   "source": [
    "fragments_indexes = np.array(fragments_indexes).transpose()\n",
    "\n",
    "filtered_fragments_data_ch3 = pd.DataFrame(fr_data_ch3[fragments_indexes[0]], columns=fragments_data.columns)\n",
    "filtered_fragments_data_ch4 = pd.DataFrame(fr_data_ch4[fragments_indexes[1]], columns=fragments_data.columns)\n",
    "\n",
    "filtered_fragments_data_ch3 = filtered_fragments_data_ch3.drop_duplicates()\n",
    "filtered_fragments_data_ch3.to_csv(f\"data_csv/filtered_data/{file_id}_cnn_v12_result_fil_{ch1}_data.csv\", index=False)\n",
    "\n",
    "filtered_fragments_data_ch4 = filtered_fragments_data_ch4.drop_duplicates()\n",
    "filtered_fragments_data_ch4.to_csv(f\"data_csv/filtered_data/{file_id}_cnn_v12_result_fil_{ch2}_data.csv\", index=False)"
   ],
   "metadata": {
    "collapsed": false,
    "ExecuteTime": {
     "start_time": "2024-04-06T04:43:14.198643Z",
     "end_time": "2024-04-06T04:43:15.398348Z"
    }
   }
  },
  {
   "cell_type": "markdown",
   "source": [
    "---\n",
    "---"
   ],
   "metadata": {
    "collapsed": false
   }
  },
  {
   "cell_type": "code",
   "execution_count": 2,
   "outputs": [],
   "source": [
    "total_data = pd.read_csv(f\"data_csv/result_data/41651 DBS new_cnn_bin_class_12_result_fil_all_ch_data.csv\")\n",
    "# total_data = total_data.replace(\"ch11_0\", \"ch11\")\n",
    "# total_data = total_data.replace(\"ch12_0\", \"ch12\")\n",
    "total_data[\"Y\"] = 0.\n",
    "total_data = total_data.replace(\"ch1\", \"50GHz (I)\")\n",
    "total_data = total_data.replace(\"ch2\", \"50GHz (Q)\")\n",
    "total_data = total_data.replace(\"ch5\", \"60GHz (I)\")\n",
    "total_data = total_data.replace(\"ch6\", \"60GHz (Q)\")\n",
    "total_data = total_data.replace(\"ch9\", \"20GHz (I)\")\n",
    "total_data = total_data.replace(\"ch10\", \"20GHz (Q)\")\n",
    "total_data = total_data.replace(\"ch11\", \"29GHz (I)\")\n",
    "total_data = total_data.replace(\"ch12\", \"29GHz (Q)\")\n",
    "\n",
    "total_data = total_data.drop_duplicates()\n",
    "total_data.to_csv(f\"data_csv/result_data/41651_cnn_v12_all_ch_data_v2.csv\", index=False)"
   ],
   "metadata": {
    "collapsed": false,
    "ExecuteTime": {
     "start_time": "2024-04-08T00:50:32.846877Z",
     "end_time": "2024-04-08T00:50:36.445522Z"
    }
   }
  },
  {
   "cell_type": "code",
   "execution_count": 3,
   "outputs": [
    {
     "data": {
      "text/plain": "array(['50GHz (I)', '50GHz (Q)', '29GHz (I)', '29GHz (Q)', '20GHz (I)',\n       '20GHz (Q)', '60GHz (I)', '60GHz (Q)'], dtype=object)"
     },
     "execution_count": 3,
     "metadata": {},
     "output_type": "execute_result"
    }
   ],
   "source": [
    "# total_data = pd.read_csv(f\"data_csv/result_data/41649 DBS new_cnn_bin_class_12_result_fil_all_ch_data.csv\")\n",
    "total_data[\"Ch\"].unique()"
   ],
   "metadata": {
    "collapsed": false,
    "ExecuteTime": {
     "start_time": "2024-04-08T00:50:39.422509Z",
     "end_time": "2024-04-08T00:50:39.439511Z"
    }
   }
  },
  {
   "cell_type": "code",
   "execution_count": 3,
   "outputs": [],
   "source": [
    "total_data = total_data.replace(\"ch1\", \"50GHz (I)\")\n",
    "total_data = total_data.replace(\"ch2\", \"50GHz (Q)\")\n",
    "total_data = total_data.replace(\"ch5\", \"60GHz (I)\")\n",
    "total_data = total_data.replace(\"ch6\", \"60GHz (Q)\")\n",
    "total_data = total_data.replace(\"ch9\", \"20GHz (I)\")\n",
    "total_data = total_data.replace(\"ch10\", \"20GHz (Q)\")\n",
    "total_data = total_data.replace(\"ch11\", \"29GHz (I)\")\n",
    "total_data = total_data.replace(\"ch12\", \"29GHz (Q)\")\n",
    "\n",
    "total_data.to_csv(f\"data_csv/result_data/41649_cnn_v12_all_ch_data_v2.csv\", index=False)"
   ],
   "metadata": {
    "collapsed": false,
    "ExecuteTime": {
     "start_time": "2024-04-07T18:36:20.279670Z",
     "end_time": "2024-04-07T18:36:27.938643Z"
    }
   }
  },
  {
   "cell_type": "code",
   "execution_count": 5,
   "outputs": [
    {
     "data": {
      "text/plain": "    D_ID   Ch     Left    Right    Y  Length  Rate      0         1         2  \\\n0  41649  ch1  31.6427  31.6670  0.0  0.0243  10.0 -0.017 -0.040343 -0.047226   \n1  41649  ch1  30.9042  30.9330  0.0  0.0288  10.0 -0.095 -0.085726 -0.078570   \n2  41649  ch1  29.8629  29.8796  0.0  0.0167  10.0 -0.062 -0.067962 -0.073212   \n3  41649  ch1  29.3630  29.3766  0.0  0.0136  10.0 -0.073 -0.072937 -0.073691   \n4  41649  ch1  28.8206  28.8394  0.0  0.0188  10.0 -0.093 -0.098126 -0.101567   \n\n   ...       502       503       504       505       506       507       508  \\\n0  ... -0.120854 -0.125546 -0.105585 -0.098156 -0.112582 -0.125901 -0.129035   \n1  ... -0.084502 -0.087198 -0.088245 -0.070655 -0.061215 -0.070223 -0.079972   \n2  ... -0.072780 -0.076165 -0.085254 -0.092788 -0.098155 -0.101446 -0.103050   \n3  ... -0.093863 -0.091786 -0.090324 -0.089477 -0.089266 -0.089769 -0.090994   \n4  ... -0.061009 -0.059077 -0.062886 -0.068892 -0.069664 -0.064988 -0.059230   \n\n        509       510    511  \n0 -0.126616 -0.121271 -0.113  \n1 -0.084583 -0.077109 -0.057  \n2 -0.103010 -0.101327 -0.098  \n3 -0.092941 -0.095610 -0.099  \n4 -0.055647 -0.054236 -0.055  \n\n[5 rows x 519 columns]",
      "text/html": "<div>\n<style scoped>\n    .dataframe tbody tr th:only-of-type {\n        vertical-align: middle;\n    }\n\n    .dataframe tbody tr th {\n        vertical-align: top;\n    }\n\n    .dataframe thead th {\n        text-align: right;\n    }\n</style>\n<table border=\"1\" class=\"dataframe\">\n  <thead>\n    <tr style=\"text-align: right;\">\n      <th></th>\n      <th>D_ID</th>\n      <th>Ch</th>\n      <th>Left</th>\n      <th>Right</th>\n      <th>Y</th>\n      <th>Length</th>\n      <th>Rate</th>\n      <th>0</th>\n      <th>1</th>\n      <th>2</th>\n      <th>...</th>\n      <th>502</th>\n      <th>503</th>\n      <th>504</th>\n      <th>505</th>\n      <th>506</th>\n      <th>507</th>\n      <th>508</th>\n      <th>509</th>\n      <th>510</th>\n      <th>511</th>\n    </tr>\n  </thead>\n  <tbody>\n    <tr>\n      <th>0</th>\n      <td>41649</td>\n      <td>ch1</td>\n      <td>31.6427</td>\n      <td>31.6670</td>\n      <td>0.0</td>\n      <td>0.0243</td>\n      <td>10.0</td>\n      <td>-0.017</td>\n      <td>-0.040343</td>\n      <td>-0.047226</td>\n      <td>...</td>\n      <td>-0.120854</td>\n      <td>-0.125546</td>\n      <td>-0.105585</td>\n      <td>-0.098156</td>\n      <td>-0.112582</td>\n      <td>-0.125901</td>\n      <td>-0.129035</td>\n      <td>-0.126616</td>\n      <td>-0.121271</td>\n      <td>-0.113</td>\n    </tr>\n    <tr>\n      <th>1</th>\n      <td>41649</td>\n      <td>ch1</td>\n      <td>30.9042</td>\n      <td>30.9330</td>\n      <td>0.0</td>\n      <td>0.0288</td>\n      <td>10.0</td>\n      <td>-0.095</td>\n      <td>-0.085726</td>\n      <td>-0.078570</td>\n      <td>...</td>\n      <td>-0.084502</td>\n      <td>-0.087198</td>\n      <td>-0.088245</td>\n      <td>-0.070655</td>\n      <td>-0.061215</td>\n      <td>-0.070223</td>\n      <td>-0.079972</td>\n      <td>-0.084583</td>\n      <td>-0.077109</td>\n      <td>-0.057</td>\n    </tr>\n    <tr>\n      <th>2</th>\n      <td>41649</td>\n      <td>ch1</td>\n      <td>29.8629</td>\n      <td>29.8796</td>\n      <td>0.0</td>\n      <td>0.0167</td>\n      <td>10.0</td>\n      <td>-0.062</td>\n      <td>-0.067962</td>\n      <td>-0.073212</td>\n      <td>...</td>\n      <td>-0.072780</td>\n      <td>-0.076165</td>\n      <td>-0.085254</td>\n      <td>-0.092788</td>\n      <td>-0.098155</td>\n      <td>-0.101446</td>\n      <td>-0.103050</td>\n      <td>-0.103010</td>\n      <td>-0.101327</td>\n      <td>-0.098</td>\n    </tr>\n    <tr>\n      <th>3</th>\n      <td>41649</td>\n      <td>ch1</td>\n      <td>29.3630</td>\n      <td>29.3766</td>\n      <td>0.0</td>\n      <td>0.0136</td>\n      <td>10.0</td>\n      <td>-0.073</td>\n      <td>-0.072937</td>\n      <td>-0.073691</td>\n      <td>...</td>\n      <td>-0.093863</td>\n      <td>-0.091786</td>\n      <td>-0.090324</td>\n      <td>-0.089477</td>\n      <td>-0.089266</td>\n      <td>-0.089769</td>\n      <td>-0.090994</td>\n      <td>-0.092941</td>\n      <td>-0.095610</td>\n      <td>-0.099</td>\n    </tr>\n    <tr>\n      <th>4</th>\n      <td>41649</td>\n      <td>ch1</td>\n      <td>28.8206</td>\n      <td>28.8394</td>\n      <td>0.0</td>\n      <td>0.0188</td>\n      <td>10.0</td>\n      <td>-0.093</td>\n      <td>-0.098126</td>\n      <td>-0.101567</td>\n      <td>...</td>\n      <td>-0.061009</td>\n      <td>-0.059077</td>\n      <td>-0.062886</td>\n      <td>-0.068892</td>\n      <td>-0.069664</td>\n      <td>-0.064988</td>\n      <td>-0.059230</td>\n      <td>-0.055647</td>\n      <td>-0.054236</td>\n      <td>-0.055</td>\n    </tr>\n  </tbody>\n</table>\n<p>5 rows × 519 columns</p>\n</div>"
     },
     "execution_count": 5,
     "metadata": {},
     "output_type": "execute_result"
    }
   ],
   "source": [
    "total_data.head()"
   ],
   "metadata": {
    "collapsed": false,
    "ExecuteTime": {
     "start_time": "2024-04-07T01:27:30.021718Z",
     "end_time": "2024-04-07T01:27:30.052970Z"
    }
   }
  },
  {
   "cell_type": "code",
   "execution_count": 60,
   "outputs": [
    {
     "data": {
      "text/plain": "                t      ch1      ch2       ch3       ch4      ch5     ch6\n392400  198.10019  0.21289  0.16016 -0.181640 -0.083984 -0.68359  1.0859\n392401  198.10044  0.22461  0.15625 -0.248050  0.171870 -0.72266  1.2129\n392402  198.10069  0.24609  0.15430 -0.087891  0.376950 -0.81836  1.2422\n392403  198.10094  0.25391  0.14258  0.177730  0.447270 -0.93945  1.2188\n392404  198.10119  0.25195  0.13477  0.386720  0.382810 -1.04300  1.1777",
      "text/html": "<div>\n<style scoped>\n    .dataframe tbody tr th:only-of-type {\n        vertical-align: middle;\n    }\n\n    .dataframe tbody tr th {\n        vertical-align: top;\n    }\n\n    .dataframe thead th {\n        text-align: right;\n    }\n</style>\n<table border=\"1\" class=\"dataframe\">\n  <thead>\n    <tr style=\"text-align: right;\">\n      <th></th>\n      <th>t</th>\n      <th>ch1</th>\n      <th>ch2</th>\n      <th>ch3</th>\n      <th>ch4</th>\n      <th>ch5</th>\n      <th>ch6</th>\n    </tr>\n  </thead>\n  <tbody>\n    <tr>\n      <th>392400</th>\n      <td>198.10019</td>\n      <td>0.21289</td>\n      <td>0.16016</td>\n      <td>-0.181640</td>\n      <td>-0.083984</td>\n      <td>-0.68359</td>\n      <td>1.0859</td>\n    </tr>\n    <tr>\n      <th>392401</th>\n      <td>198.10044</td>\n      <td>0.22461</td>\n      <td>0.15625</td>\n      <td>-0.248050</td>\n      <td>0.171870</td>\n      <td>-0.72266</td>\n      <td>1.2129</td>\n    </tr>\n    <tr>\n      <th>392402</th>\n      <td>198.10069</td>\n      <td>0.24609</td>\n      <td>0.15430</td>\n      <td>-0.087891</td>\n      <td>0.376950</td>\n      <td>-0.81836</td>\n      <td>1.2422</td>\n    </tr>\n    <tr>\n      <th>392403</th>\n      <td>198.10094</td>\n      <td>0.25391</td>\n      <td>0.14258</td>\n      <td>0.177730</td>\n      <td>0.447270</td>\n      <td>-0.93945</td>\n      <td>1.2188</td>\n    </tr>\n    <tr>\n      <th>392404</th>\n      <td>198.10119</td>\n      <td>0.25195</td>\n      <td>0.13477</td>\n      <td>0.386720</td>\n      <td>0.382810</td>\n      <td>-1.04300</td>\n      <td>1.1777</td>\n    </tr>\n  </tbody>\n</table>\n</div>"
     },
     "execution_count": 60,
     "metadata": {},
     "output_type": "execute_result"
    }
   ],
   "source": [
    "from Files_operating import read_dataFile\n",
    "\n",
    "tot_signal = read_dataFile(\"data_csv/41226 DBS old.dat\", \"\")\n",
    "tot_signal = tot_signal.dropna(axis=1)\n",
    "fragment_df = tot_signal[(tot_signal.t >= 198.1) & (tot_signal.t <= 227.8)]\n",
    "fragment_df.head()"
   ],
   "metadata": {
    "collapsed": false,
    "ExecuteTime": {
     "start_time": "2024-04-06T02:58:11.741540Z",
     "end_time": "2024-04-06T02:58:15.915803Z"
    }
   }
  },
  {
   "cell_type": "code",
   "execution_count": 61,
   "outputs": [],
   "source": [
    "fragment_df.to_csv(\"data_csv/41226 DBS_fragment_for_DA_analytic.csv\", index=False)"
   ],
   "metadata": {
    "collapsed": false,
    "ExecuteTime": {
     "start_time": "2024-04-06T03:00:34.256173Z",
     "end_time": "2024-04-06T03:00:35.587323Z"
    }
   }
  },
  {
   "cell_type": "code",
   "execution_count": 64,
   "outputs": [
    {
     "data": {
      "text/plain": "            t       ch1\n98100  98.100  0.033230\n98101  98.101  0.058792\n98102  98.102  0.051123\n98103  98.103  0.051123\n98104  98.104  0.043455",
      "text/html": "<div>\n<style scoped>\n    .dataframe tbody tr th:only-of-type {\n        vertical-align: middle;\n    }\n\n    .dataframe tbody tr th {\n        vertical-align: top;\n    }\n\n    .dataframe thead th {\n        text-align: right;\n    }\n</style>\n<table border=\"1\" class=\"dataframe\">\n  <thead>\n    <tr style=\"text-align: right;\">\n      <th></th>\n      <th>t</th>\n      <th>ch1</th>\n    </tr>\n  </thead>\n  <tbody>\n    <tr>\n      <th>98100</th>\n      <td>98.100</td>\n      <td>0.033230</td>\n    </tr>\n    <tr>\n      <th>98101</th>\n      <td>98.101</td>\n      <td>0.058792</td>\n    </tr>\n    <tr>\n      <th>98102</th>\n      <td>98.102</td>\n      <td>0.051123</td>\n    </tr>\n    <tr>\n      <th>98103</th>\n      <td>98.103</td>\n      <td>0.051123</td>\n    </tr>\n    <tr>\n      <th>98104</th>\n      <td>98.104</td>\n      <td>0.043455</td>\n    </tr>\n  </tbody>\n</table>\n</div>"
     },
     "execution_count": 64,
     "metadata": {},
     "output_type": "execute_result"
    }
   ],
   "source": [
    "tot_signal = read_dataFile(\"data_csv/41226 DA.dat\", \"\")\n",
    "tot_signal = tot_signal.dropna(axis=1)\n",
    "fragment_df = tot_signal[(tot_signal.t >= 98.1) & (tot_signal.t <= 127.8)]\n",
    "fragment_df.head()"
   ],
   "metadata": {
    "collapsed": false,
    "ExecuteTime": {
     "start_time": "2024-04-06T03:04:41.104059Z",
     "end_time": "2024-04-06T03:04:42.835784Z"
    }
   }
  },
  {
   "cell_type": "code",
   "execution_count": null,
   "outputs": [],
   "source": [
    "fragment_df.to_csv(\"data_csv/41226 DA_fragment.csv\", index=False)"
   ],
   "metadata": {
    "collapsed": false,
    "ExecuteTime": {
     "start_time": "2024-04-06T03:03:41.323817Z",
     "end_time": "2024-04-06T03:03:41.396874Z"
    }
   }
  },
  {
   "cell_type": "code",
   "execution_count": 1,
   "outputs": [
    {
     "name": "stderr",
     "output_type": "stream",
     "text": [
      "C:\\Users\\fvdel\\AppData\\Local\\Temp\\ipykernel_16336\\2937337254.py:1: DeprecationWarning: \n",
      "Pyarrow will become a required dependency of pandas in the next major release of pandas (pandas 3.0),\n",
      "(to allow more performant data types, such as the Arrow string type, and better interoperability with other libraries)\n",
      "but was not found to be installed on your system.\n",
      "If this would cause problems for you,\n",
      "please provide us feedback at https://github.com/pandas-dev/pandas/issues/54466\n",
      "        \n",
      "  import pandas as pd\n"
     ]
    }
   ],
   "source": [
    "import pandas as pd\n",
    "\n",
    "db = pd.read_csv(\"data_csv/result_data/41226 DBS old_cnn_bin_class_13_result_fil_all_ch_data.csv\")\n",
    "# db[\"Y\"] = 0\n",
    "db = db.drop_duplicates()\n",
    "db.to_csv(\"data_csv/result_data/41226 DBS old_cnn_bin_class_13_result_fil_all_ch_data_v1.csv\", index=False)"
   ],
   "metadata": {
    "collapsed": false,
    "ExecuteTime": {
     "start_time": "2024-04-21T23:21:47.432376Z",
     "end_time": "2024-04-21T23:21:48.931043Z"
    }
   }
  },
  {
   "cell_type": "code",
   "execution_count": 20,
   "outputs": [
    {
     "data": {
      "text/plain": "   Unnamed: 0   D_ID   Ch       Left      Right    Y  Length  Rate         0  \\\n0           0  41228  ch2  227.97200  227.98800  1.0   0.016   4.0 -0.142580   \n1           1  41228  ch1  227.97200  227.98800  1.0   0.016   4.0 -0.015625   \n2           2  41228  ch2  227.96375  227.97975  1.0   0.016   4.0 -0.111330   \n3           3  41228  ch1  227.96375  227.97975  1.0   0.016   4.0  0.013672   \n4           4  41228  ch2  227.95550  227.97150  1.0   0.016   4.0 -0.103520   \n\n          1  ...       502       503       504       505       506       507  \\\n0 -0.141514  ... -0.117889 -0.117195 -0.117251 -0.118059 -0.119617 -0.121926   \n1 -0.007369  ... -0.009353 -0.009759 -0.010237 -0.010789 -0.011413 -0.012110   \n2 -0.109685  ... -0.126674 -0.125028 -0.123149 -0.121040 -0.118699 -0.116126   \n3  0.007299  ...  0.016538  0.017568  0.017881  0.017477  0.016356  0.014519   \n4 -0.105993  ... -0.109429 -0.111306 -0.112495 -0.112996 -0.112810 -0.111935   \n\n        508       509       510           511  \n0 -0.124986 -0.128796 -0.133358 -1.386700e-01  \n1 -0.012879 -0.013722 -0.014637 -1.562500e-02  \n2 -0.113322 -0.110286 -0.107019 -1.035200e-01  \n3  0.011964  0.008693  0.004705  1.431900e-08  \n4 -0.110373 -0.108123 -0.105186 -1.015600e-01  \n\n[5 rows x 520 columns]",
      "text/html": "<div>\n<style scoped>\n    .dataframe tbody tr th:only-of-type {\n        vertical-align: middle;\n    }\n\n    .dataframe tbody tr th {\n        vertical-align: top;\n    }\n\n    .dataframe thead th {\n        text-align: right;\n    }\n</style>\n<table border=\"1\" class=\"dataframe\">\n  <thead>\n    <tr style=\"text-align: right;\">\n      <th></th>\n      <th>Unnamed: 0</th>\n      <th>D_ID</th>\n      <th>Ch</th>\n      <th>Left</th>\n      <th>Right</th>\n      <th>Y</th>\n      <th>Length</th>\n      <th>Rate</th>\n      <th>0</th>\n      <th>1</th>\n      <th>...</th>\n      <th>502</th>\n      <th>503</th>\n      <th>504</th>\n      <th>505</th>\n      <th>506</th>\n      <th>507</th>\n      <th>508</th>\n      <th>509</th>\n      <th>510</th>\n      <th>511</th>\n    </tr>\n  </thead>\n  <tbody>\n    <tr>\n      <th>0</th>\n      <td>0</td>\n      <td>41228</td>\n      <td>ch2</td>\n      <td>227.97200</td>\n      <td>227.98800</td>\n      <td>1.0</td>\n      <td>0.016</td>\n      <td>4.0</td>\n      <td>-0.142580</td>\n      <td>-0.141514</td>\n      <td>...</td>\n      <td>-0.117889</td>\n      <td>-0.117195</td>\n      <td>-0.117251</td>\n      <td>-0.118059</td>\n      <td>-0.119617</td>\n      <td>-0.121926</td>\n      <td>-0.124986</td>\n      <td>-0.128796</td>\n      <td>-0.133358</td>\n      <td>-1.386700e-01</td>\n    </tr>\n    <tr>\n      <th>1</th>\n      <td>1</td>\n      <td>41228</td>\n      <td>ch1</td>\n      <td>227.97200</td>\n      <td>227.98800</td>\n      <td>1.0</td>\n      <td>0.016</td>\n      <td>4.0</td>\n      <td>-0.015625</td>\n      <td>-0.007369</td>\n      <td>...</td>\n      <td>-0.009353</td>\n      <td>-0.009759</td>\n      <td>-0.010237</td>\n      <td>-0.010789</td>\n      <td>-0.011413</td>\n      <td>-0.012110</td>\n      <td>-0.012879</td>\n      <td>-0.013722</td>\n      <td>-0.014637</td>\n      <td>-1.562500e-02</td>\n    </tr>\n    <tr>\n      <th>2</th>\n      <td>2</td>\n      <td>41228</td>\n      <td>ch2</td>\n      <td>227.96375</td>\n      <td>227.97975</td>\n      <td>1.0</td>\n      <td>0.016</td>\n      <td>4.0</td>\n      <td>-0.111330</td>\n      <td>-0.109685</td>\n      <td>...</td>\n      <td>-0.126674</td>\n      <td>-0.125028</td>\n      <td>-0.123149</td>\n      <td>-0.121040</td>\n      <td>-0.118699</td>\n      <td>-0.116126</td>\n      <td>-0.113322</td>\n      <td>-0.110286</td>\n      <td>-0.107019</td>\n      <td>-1.035200e-01</td>\n    </tr>\n    <tr>\n      <th>3</th>\n      <td>3</td>\n      <td>41228</td>\n      <td>ch1</td>\n      <td>227.96375</td>\n      <td>227.97975</td>\n      <td>1.0</td>\n      <td>0.016</td>\n      <td>4.0</td>\n      <td>0.013672</td>\n      <td>0.007299</td>\n      <td>...</td>\n      <td>0.016538</td>\n      <td>0.017568</td>\n      <td>0.017881</td>\n      <td>0.017477</td>\n      <td>0.016356</td>\n      <td>0.014519</td>\n      <td>0.011964</td>\n      <td>0.008693</td>\n      <td>0.004705</td>\n      <td>1.431900e-08</td>\n    </tr>\n    <tr>\n      <th>4</th>\n      <td>4</td>\n      <td>41228</td>\n      <td>ch2</td>\n      <td>227.95550</td>\n      <td>227.97150</td>\n      <td>1.0</td>\n      <td>0.016</td>\n      <td>4.0</td>\n      <td>-0.103520</td>\n      <td>-0.105993</td>\n      <td>...</td>\n      <td>-0.109429</td>\n      <td>-0.111306</td>\n      <td>-0.112495</td>\n      <td>-0.112996</td>\n      <td>-0.112810</td>\n      <td>-0.111935</td>\n      <td>-0.110373</td>\n      <td>-0.108123</td>\n      <td>-0.105186</td>\n      <td>-1.015600e-01</td>\n    </tr>\n  </tbody>\n</table>\n<p>5 rows × 520 columns</p>\n</div>"
     },
     "execution_count": 20,
     "metadata": {},
     "output_type": "execute_result"
    }
   ],
   "source": [
    "total_df = pd.read_csv(f\"data_csv/result_data/41228_cnn_bin_class_13_result_all_ch.csv\")\n",
    "total_df.head()"
   ],
   "metadata": {
    "collapsed": false,
    "ExecuteTime": {
     "start_time": "2024-04-26T16:06:53.263016Z",
     "end_time": "2024-04-26T16:06:54.389839Z"
    }
   }
  },
  {
   "cell_type": "code",
   "execution_count": 21,
   "outputs": [
    {
     "data": {
      "text/plain": "    D_ID   Ch       Left      Right    Y  Length  Rate         0         1  \\\n0  41228  ch2  227.97200  227.98800  1.0   0.016   4.0 -0.142580 -0.141514   \n1  41228  ch1  227.97200  227.98800  1.0   0.016   4.0 -0.015625 -0.007369   \n2  41228  ch2  227.96375  227.97975  1.0   0.016   4.0 -0.111330 -0.109685   \n3  41228  ch1  227.96375  227.97975  1.0   0.016   4.0  0.013672  0.007299   \n4  41228  ch2  227.95550  227.97150  1.0   0.016   4.0 -0.103520 -0.105993   \n\n          2  ...       502       503       504       505       506       507  \\\n0 -0.140473  ... -0.117889 -0.117195 -0.117251 -0.118059 -0.119617 -0.121926   \n1 -0.000146  ... -0.009353 -0.009759 -0.010237 -0.010789 -0.011413 -0.012110   \n2 -0.108161  ... -0.126674 -0.125028 -0.123149 -0.121040 -0.118699 -0.116126   \n3  0.001770  ...  0.016538  0.017568  0.017881  0.017477  0.016356  0.014519   \n4 -0.108598  ... -0.109429 -0.111306 -0.112495 -0.112996 -0.112810 -0.111935   \n\n        508       509       510           511  \n0 -0.124986 -0.128796 -0.133358 -1.386700e-01  \n1 -0.012879 -0.013722 -0.014637 -1.562500e-02  \n2 -0.113322 -0.110286 -0.107019 -1.035200e-01  \n3  0.011964  0.008693  0.004705  1.431900e-08  \n4 -0.110373 -0.108123 -0.105186 -1.015600e-01  \n\n[5 rows x 519 columns]",
      "text/html": "<div>\n<style scoped>\n    .dataframe tbody tr th:only-of-type {\n        vertical-align: middle;\n    }\n\n    .dataframe tbody tr th {\n        vertical-align: top;\n    }\n\n    .dataframe thead th {\n        text-align: right;\n    }\n</style>\n<table border=\"1\" class=\"dataframe\">\n  <thead>\n    <tr style=\"text-align: right;\">\n      <th></th>\n      <th>D_ID</th>\n      <th>Ch</th>\n      <th>Left</th>\n      <th>Right</th>\n      <th>Y</th>\n      <th>Length</th>\n      <th>Rate</th>\n      <th>0</th>\n      <th>1</th>\n      <th>2</th>\n      <th>...</th>\n      <th>502</th>\n      <th>503</th>\n      <th>504</th>\n      <th>505</th>\n      <th>506</th>\n      <th>507</th>\n      <th>508</th>\n      <th>509</th>\n      <th>510</th>\n      <th>511</th>\n    </tr>\n  </thead>\n  <tbody>\n    <tr>\n      <th>0</th>\n      <td>41228</td>\n      <td>ch2</td>\n      <td>227.97200</td>\n      <td>227.98800</td>\n      <td>1.0</td>\n      <td>0.016</td>\n      <td>4.0</td>\n      <td>-0.142580</td>\n      <td>-0.141514</td>\n      <td>-0.140473</td>\n      <td>...</td>\n      <td>-0.117889</td>\n      <td>-0.117195</td>\n      <td>-0.117251</td>\n      <td>-0.118059</td>\n      <td>-0.119617</td>\n      <td>-0.121926</td>\n      <td>-0.124986</td>\n      <td>-0.128796</td>\n      <td>-0.133358</td>\n      <td>-1.386700e-01</td>\n    </tr>\n    <tr>\n      <th>1</th>\n      <td>41228</td>\n      <td>ch1</td>\n      <td>227.97200</td>\n      <td>227.98800</td>\n      <td>1.0</td>\n      <td>0.016</td>\n      <td>4.0</td>\n      <td>-0.015625</td>\n      <td>-0.007369</td>\n      <td>-0.000146</td>\n      <td>...</td>\n      <td>-0.009353</td>\n      <td>-0.009759</td>\n      <td>-0.010237</td>\n      <td>-0.010789</td>\n      <td>-0.011413</td>\n      <td>-0.012110</td>\n      <td>-0.012879</td>\n      <td>-0.013722</td>\n      <td>-0.014637</td>\n      <td>-1.562500e-02</td>\n    </tr>\n    <tr>\n      <th>2</th>\n      <td>41228</td>\n      <td>ch2</td>\n      <td>227.96375</td>\n      <td>227.97975</td>\n      <td>1.0</td>\n      <td>0.016</td>\n      <td>4.0</td>\n      <td>-0.111330</td>\n      <td>-0.109685</td>\n      <td>-0.108161</td>\n      <td>...</td>\n      <td>-0.126674</td>\n      <td>-0.125028</td>\n      <td>-0.123149</td>\n      <td>-0.121040</td>\n      <td>-0.118699</td>\n      <td>-0.116126</td>\n      <td>-0.113322</td>\n      <td>-0.110286</td>\n      <td>-0.107019</td>\n      <td>-1.035200e-01</td>\n    </tr>\n    <tr>\n      <th>3</th>\n      <td>41228</td>\n      <td>ch1</td>\n      <td>227.96375</td>\n      <td>227.97975</td>\n      <td>1.0</td>\n      <td>0.016</td>\n      <td>4.0</td>\n      <td>0.013672</td>\n      <td>0.007299</td>\n      <td>0.001770</td>\n      <td>...</td>\n      <td>0.016538</td>\n      <td>0.017568</td>\n      <td>0.017881</td>\n      <td>0.017477</td>\n      <td>0.016356</td>\n      <td>0.014519</td>\n      <td>0.011964</td>\n      <td>0.008693</td>\n      <td>0.004705</td>\n      <td>1.431900e-08</td>\n    </tr>\n    <tr>\n      <th>4</th>\n      <td>41228</td>\n      <td>ch2</td>\n      <td>227.95550</td>\n      <td>227.97150</td>\n      <td>1.0</td>\n      <td>0.016</td>\n      <td>4.0</td>\n      <td>-0.103520</td>\n      <td>-0.105993</td>\n      <td>-0.108598</td>\n      <td>...</td>\n      <td>-0.109429</td>\n      <td>-0.111306</td>\n      <td>-0.112495</td>\n      <td>-0.112996</td>\n      <td>-0.112810</td>\n      <td>-0.111935</td>\n      <td>-0.110373</td>\n      <td>-0.108123</td>\n      <td>-0.105186</td>\n      <td>-1.015600e-01</td>\n    </tr>\n  </tbody>\n</table>\n<p>5 rows × 519 columns</p>\n</div>"
     },
     "execution_count": 21,
     "metadata": {},
     "output_type": "execute_result"
    }
   ],
   "source": [
    "total_df = total_df.drop(\"Unnamed: 0\", axis=1)\n",
    "total_df.head()"
   ],
   "metadata": {
    "collapsed": false,
    "ExecuteTime": {
     "start_time": "2024-04-26T16:06:56.980075Z",
     "end_time": "2024-04-26T16:06:57.028071Z"
    }
   }
  },
  {
   "cell_type": "code",
   "execution_count": 14,
   "outputs": [],
   "source": [
    "total_df[\"Ch_Freq\"] = total_df[\"Ch_Freq\"].replace(39., 29.)\n",
    "total_df.head()"
   ],
   "metadata": {
    "collapsed": false,
    "ExecuteTime": {
     "start_time": "2024-04-26T16:05:53.779737Z",
     "end_time": "2024-04-26T16:05:53.797836Z"
    }
   }
  },
  {
   "cell_type": "code",
   "execution_count": 22,
   "outputs": [],
   "source": [
    "\n",
    "total_df.to_csv(\"data_csv/result_data/41228_cnn_bin_class_13_result_all_ch.csv\", index=False)"
   ],
   "metadata": {
    "collapsed": false,
    "ExecuteTime": {
     "start_time": "2024-04-26T16:07:02.499636Z",
     "end_time": "2024-04-26T16:07:09.312586Z"
    }
   }
  },
  {
   "cell_type": "code",
   "execution_count": 1,
   "outputs": [
    {
     "name": "stderr",
     "output_type": "stream",
     "text": [
      "C:\\Users\\fvdel\\AppData\\Local\\Temp\\ipykernel_7388\\2393479202.py:1: DeprecationWarning: \n",
      "Pyarrow will become a required dependency of pandas in the next major release of pandas (pandas 3.0),\n",
      "(to allow more performant data types, such as the Arrow string type, and better interoperability with other libraries)\n",
      "but was not found to be installed on your system.\n",
      "If this would cause problems for you,\n",
      "please provide us feedback at https://github.com/pandas-dev/pandas/issues/54466\n",
      "        \n",
      "  import pandas as pd\n"
     ]
    },
    {
     "data": {
      "text/plain": "    D_ID   Ch  Ch_Freq      Left     Right      Y    Length  Rate         0  \\\n0  Dref-  ch2     70.0  0.227950  0.227963  0.000  0.000013   4.0  0.162110   \n1  Dref-  ch1     70.0  0.227950  0.227963  0.986  0.000013   4.0  0.068359   \n2  Dref-  ch2     70.0  0.227799  0.227814  0.000  0.000016   4.0  0.191406   \n3  Dref-  ch1     70.0  0.227799  0.227814  0.815  0.000016   4.0  0.072266   \n4  Dref-  ch2     70.0  0.227767  0.227782  0.519  0.000016   4.0  0.181641   \n\n          1  ...       502       503       504       505       506       507  \\\n0  0.161262  ...  0.158101  0.157961  0.157806  0.157633  0.157444  0.157239   \n1  0.067892  ...  0.066292  0.066181  0.066102  0.066053  0.066035  0.066048   \n2  0.190171  ...  0.181384  0.181681  0.182128  0.182725  0.183472  0.184368   \n3  0.071836  ...  0.072098  0.072284  0.072429  0.072531  0.072592  0.072610   \n4  0.182785  ...  0.183387  0.183617  0.183795  0.183921  0.183996  0.184019   \n\n        508       509       510       511  \n0  0.157017  0.156778  0.156522  0.156250  \n1  0.066091  0.066165  0.066270  0.066406  \n2  0.185415  0.186611  0.187957  0.189453  \n3  0.072587  0.072522  0.072415  0.072266  \n4  0.183990  0.183910  0.183778  0.183594  \n\n[5 rows x 520 columns]",
      "text/html": "<div>\n<style scoped>\n    .dataframe tbody tr th:only-of-type {\n        vertical-align: middle;\n    }\n\n    .dataframe tbody tr th {\n        vertical-align: top;\n    }\n\n    .dataframe thead th {\n        text-align: right;\n    }\n</style>\n<table border=\"1\" class=\"dataframe\">\n  <thead>\n    <tr style=\"text-align: right;\">\n      <th></th>\n      <th>D_ID</th>\n      <th>Ch</th>\n      <th>Ch_Freq</th>\n      <th>Left</th>\n      <th>Right</th>\n      <th>Y</th>\n      <th>Length</th>\n      <th>Rate</th>\n      <th>0</th>\n      <th>1</th>\n      <th>...</th>\n      <th>502</th>\n      <th>503</th>\n      <th>504</th>\n      <th>505</th>\n      <th>506</th>\n      <th>507</th>\n      <th>508</th>\n      <th>509</th>\n      <th>510</th>\n      <th>511</th>\n    </tr>\n  </thead>\n  <tbody>\n    <tr>\n      <th>0</th>\n      <td>Dref-</td>\n      <td>ch2</td>\n      <td>70.0</td>\n      <td>0.227950</td>\n      <td>0.227963</td>\n      <td>0.000</td>\n      <td>0.000013</td>\n      <td>4.0</td>\n      <td>0.162110</td>\n      <td>0.161262</td>\n      <td>...</td>\n      <td>0.158101</td>\n      <td>0.157961</td>\n      <td>0.157806</td>\n      <td>0.157633</td>\n      <td>0.157444</td>\n      <td>0.157239</td>\n      <td>0.157017</td>\n      <td>0.156778</td>\n      <td>0.156522</td>\n      <td>0.156250</td>\n    </tr>\n    <tr>\n      <th>1</th>\n      <td>Dref-</td>\n      <td>ch1</td>\n      <td>70.0</td>\n      <td>0.227950</td>\n      <td>0.227963</td>\n      <td>0.986</td>\n      <td>0.000013</td>\n      <td>4.0</td>\n      <td>0.068359</td>\n      <td>0.067892</td>\n      <td>...</td>\n      <td>0.066292</td>\n      <td>0.066181</td>\n      <td>0.066102</td>\n      <td>0.066053</td>\n      <td>0.066035</td>\n      <td>0.066048</td>\n      <td>0.066091</td>\n      <td>0.066165</td>\n      <td>0.066270</td>\n      <td>0.066406</td>\n    </tr>\n    <tr>\n      <th>2</th>\n      <td>Dref-</td>\n      <td>ch2</td>\n      <td>70.0</td>\n      <td>0.227799</td>\n      <td>0.227814</td>\n      <td>0.000</td>\n      <td>0.000016</td>\n      <td>4.0</td>\n      <td>0.191406</td>\n      <td>0.190171</td>\n      <td>...</td>\n      <td>0.181384</td>\n      <td>0.181681</td>\n      <td>0.182128</td>\n      <td>0.182725</td>\n      <td>0.183472</td>\n      <td>0.184368</td>\n      <td>0.185415</td>\n      <td>0.186611</td>\n      <td>0.187957</td>\n      <td>0.189453</td>\n    </tr>\n    <tr>\n      <th>3</th>\n      <td>Dref-</td>\n      <td>ch1</td>\n      <td>70.0</td>\n      <td>0.227799</td>\n      <td>0.227814</td>\n      <td>0.815</td>\n      <td>0.000016</td>\n      <td>4.0</td>\n      <td>0.072266</td>\n      <td>0.071836</td>\n      <td>...</td>\n      <td>0.072098</td>\n      <td>0.072284</td>\n      <td>0.072429</td>\n      <td>0.072531</td>\n      <td>0.072592</td>\n      <td>0.072610</td>\n      <td>0.072587</td>\n      <td>0.072522</td>\n      <td>0.072415</td>\n      <td>0.072266</td>\n    </tr>\n    <tr>\n      <th>4</th>\n      <td>Dref-</td>\n      <td>ch2</td>\n      <td>70.0</td>\n      <td>0.227767</td>\n      <td>0.227782</td>\n      <td>0.519</td>\n      <td>0.000016</td>\n      <td>4.0</td>\n      <td>0.181641</td>\n      <td>0.182785</td>\n      <td>...</td>\n      <td>0.183387</td>\n      <td>0.183617</td>\n      <td>0.183795</td>\n      <td>0.183921</td>\n      <td>0.183996</td>\n      <td>0.184019</td>\n      <td>0.183990</td>\n      <td>0.183910</td>\n      <td>0.183778</td>\n      <td>0.183594</td>\n    </tr>\n  </tbody>\n</table>\n<p>5 rows × 520 columns</p>\n</div>"
     },
     "execution_count": 1,
     "metadata": {},
     "output_type": "execute_result"
    }
   ],
   "source": [
    "import pandas as pd\n",
    "\n",
    "df = pd.read_csv(\"data_csv/result_data/44330_cnn_bin_class_13_result_all_ch.csv\")\n",
    "df.head()"
   ],
   "metadata": {
    "collapsed": false,
    "ExecuteTime": {
     "start_time": "2024-04-27T19:01:18.678765Z",
     "end_time": "2024-04-27T19:01:19.619735Z"
    }
   }
  },
  {
   "cell_type": "code",
   "execution_count": 4,
   "outputs": [
    {
     "data": {
      "text/plain": "array([[0.16211   , 0.1612622 , 0.16051641, ..., 0.15677769, 0.15652216,\n        0.15625   ],\n       [0.0683594 , 0.06789193, 0.06744031, ..., 0.06616541, 0.06627047,\n        0.0664063 ],\n       [0.191406  , 0.19017093, 0.18908006, ..., 0.18661088, 0.18795701,\n        0.189453  ],\n       ...,\n       [0.0117188 , 0.0107072 , 0.00983923, ..., 0.01197513, 0.01096535,\n        0.00976563],\n       [0.00390625, 0.00396315, 0.0040052 , ..., 0.00096282, 0.00048597,\n        0.        ],\n       [0.0117188 , 0.01069744, 0.00976611, ..., 0.00879923, 0.00834608,\n        0.0078125 ]])"
     },
     "execution_count": 4,
     "metadata": {},
     "output_type": "execute_result"
    }
   ],
   "source": [
    "df_values = df[df.columns[8:]].to_numpy()\n",
    "df_values"
   ],
   "metadata": {
    "collapsed": false,
    "ExecuteTime": {
     "start_time": "2024-04-27T19:03:38.202545Z",
     "end_time": "2024-04-27T19:03:38.218190Z"
    }
   }
  },
  {
   "cell_type": "code",
   "execution_count": null,
   "outputs": [],
   "source": [],
   "metadata": {
    "collapsed": false
   }
  }
 ],
 "metadata": {
  "kernelspec": {
   "display_name": "Python 3",
   "language": "python",
   "name": "python3"
  },
  "language_info": {
   "codemirror_mode": {
    "name": "ipython",
    "version": 2
   },
   "file_extension": ".py",
   "mimetype": "text/x-python",
   "name": "python",
   "nbconvert_exporter": "python",
   "pygments_lexer": "ipython2",
   "version": "2.7.6"
  }
 },
 "nbformat": 4,
 "nbformat_minor": 0
}
