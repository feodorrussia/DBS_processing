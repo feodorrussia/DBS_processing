{
 "cells": [
  {
   "cell_type": "code",
   "execution_count": 2,
   "metadata": {
    "collapsed": true,
    "ExecuteTime": {
     "start_time": "2024-04-06T00:20:03.444444Z",
     "end_time": "2024-04-06T00:20:04.200339Z"
    }
   },
   "outputs": [
    {
     "name": "stderr",
     "output_type": "stream",
     "text": [
      "C:\\Users\\fvdel\\AppData\\Local\\Temp\\ipykernel_1264\\2937650959.py:1: DeprecationWarning: \n",
      "Pyarrow will become a required dependency of pandas in the next major release of pandas (pandas 3.0),\n",
      "(to allow more performant data types, such as the Arrow string type, and better interoperability with other libraries)\n",
      "but was not found to be installed on your system.\n",
      "If this would cause problems for you,\n",
      "please provide us feedback at https://github.com/pandas-dev/pandas/issues/54466\n",
      "        \n",
      "  import pandas as pd\n"
     ]
    }
   ],
   "source": [
    "import pandas as pd\n",
    "import numpy as np"
   ]
  },
  {
   "cell_type": "code",
   "execution_count": 47,
   "outputs": [
    {
     "data": {
      "text/plain": "    Ch    Y       Left      Right  Rate\n0  ch1  1.0  101.54175  101.55650   4.0\n1  ch1  1.0  101.33100  101.35900   4.0\n2  ch1  1.0  101.30550  101.32225   4.0\n3  ch1  1.0  101.25450  101.27650   4.0\n4  ch1  1.0  101.04550  101.06025   4.0",
      "text/html": "<div>\n<style scoped>\n    .dataframe tbody tr th:only-of-type {\n        vertical-align: middle;\n    }\n\n    .dataframe tbody tr th {\n        vertical-align: top;\n    }\n\n    .dataframe thead th {\n        text-align: right;\n    }\n</style>\n<table border=\"1\" class=\"dataframe\">\n  <thead>\n    <tr style=\"text-align: right;\">\n      <th></th>\n      <th>Ch</th>\n      <th>Y</th>\n      <th>Left</th>\n      <th>Right</th>\n      <th>Rate</th>\n    </tr>\n  </thead>\n  <tbody>\n    <tr>\n      <th>0</th>\n      <td>ch1</td>\n      <td>1.0</td>\n      <td>101.54175</td>\n      <td>101.55650</td>\n      <td>4.0</td>\n    </tr>\n    <tr>\n      <th>1</th>\n      <td>ch1</td>\n      <td>1.0</td>\n      <td>101.33100</td>\n      <td>101.35900</td>\n      <td>4.0</td>\n    </tr>\n    <tr>\n      <th>2</th>\n      <td>ch1</td>\n      <td>1.0</td>\n      <td>101.30550</td>\n      <td>101.32225</td>\n      <td>4.0</td>\n    </tr>\n    <tr>\n      <th>3</th>\n      <td>ch1</td>\n      <td>1.0</td>\n      <td>101.25450</td>\n      <td>101.27650</td>\n      <td>4.0</td>\n    </tr>\n    <tr>\n      <th>4</th>\n      <td>ch1</td>\n      <td>1.0</td>\n      <td>101.04550</td>\n      <td>101.06025</td>\n      <td>4.0</td>\n    </tr>\n  </tbody>\n</table>\n</div>"
     },
     "execution_count": 47,
     "metadata": {},
     "output_type": "execute_result"
    }
   ],
   "source": [
    "total_df = pd.read_csv(\"data_csv/result_fragments/new_new/41226 DBS old_cnn_bin_class_12_result_fil_fragments.csv\")\n",
    "total_df.head()"
   ],
   "metadata": {
    "collapsed": false,
    "ExecuteTime": {
     "start_time": "2024-04-06T02:38:28.574474Z",
     "end_time": "2024-04-06T02:38:28.608053Z"
    }
   }
  },
  {
   "cell_type": "code",
   "execution_count": 48,
   "outputs": [
    {
     "data": {
      "text/plain": "     count\nCh        \nch1    547\nch2    538\nch3    594\nch4    589\nch5    420\nch6    385",
      "text/html": "<div>\n<style scoped>\n    .dataframe tbody tr th:only-of-type {\n        vertical-align: middle;\n    }\n\n    .dataframe tbody tr th {\n        vertical-align: top;\n    }\n\n    .dataframe thead th {\n        text-align: right;\n    }\n</style>\n<table border=\"1\" class=\"dataframe\">\n  <thead>\n    <tr style=\"text-align: right;\">\n      <th></th>\n      <th>count</th>\n    </tr>\n    <tr>\n      <th>Ch</th>\n      <th></th>\n    </tr>\n  </thead>\n  <tbody>\n    <tr>\n      <th>ch1</th>\n      <td>547</td>\n    </tr>\n    <tr>\n      <th>ch2</th>\n      <td>538</td>\n    </tr>\n    <tr>\n      <th>ch3</th>\n      <td>594</td>\n    </tr>\n    <tr>\n      <th>ch4</th>\n      <td>589</td>\n    </tr>\n    <tr>\n      <th>ch5</th>\n      <td>420</td>\n    </tr>\n    <tr>\n      <th>ch6</th>\n      <td>385</td>\n    </tr>\n  </tbody>\n</table>\n</div>"
     },
     "execution_count": 48,
     "metadata": {},
     "output_type": "execute_result"
    }
   ],
   "source": [
    "total_df.groupby([\"Ch\"])[\"Y\"].agg([\"count\"])"
   ],
   "metadata": {
    "collapsed": false,
    "ExecuteTime": {
     "start_time": "2024-04-06T02:38:29.415874Z",
     "end_time": "2024-04-06T02:38:29.433117Z"
    }
   }
  },
  {
   "cell_type": "code",
   "execution_count": 49,
   "outputs": [],
   "source": [
    "ch1 = \"ch5\"\n",
    "ch2 = \"ch6\""
   ],
   "metadata": {
    "collapsed": false,
    "ExecuteTime": {
     "start_time": "2024-04-06T02:38:31.892350Z",
     "end_time": "2024-04-06T02:38:31.907513Z"
    }
   }
  },
  {
   "cell_type": "code",
   "execution_count": 50,
   "outputs": [
    {
     "name": "stdout",
     "output_type": "stream",
     "text": [
      "92 [[4, 3], [8, 7], [11, 10], [21, 23], [29, 28], [36, 39], [37, 21], [39, 22], [45, 40], [46, 41], [84, 79], [90, 85], [91, 87], [93, 89], [101, 98], [102, 80], [102, 99], [104, 83], [105, 84], [110, 100], [126, 113], [127, 115], [135, 121], [137, 122], [138, 122], [139, 123], [139, 124], [142, 133], [156, 148], [157, 149], [162, 156], [163, 156], [163, 157], [164, 158], [165, 140], [166, 141], [176, 169], [179, 152], [202, 191], [208, 199], [216, 202], [217, 203], [218, 203], [218, 204], [218, 205], [219, 206], [220, 229], [224, 216], [225, 217], [234, 225], [239, 227], [240, 244], [246, 234], [252, 259], [255, 240], [267, 256], [270, 267], [270, 268], [275, 250], [289, 264], [289, 265], [291, 273], [295, 275], [296, 275], [302, 285], [302, 286], [314, 295], [316, 299], [318, 280], [321, 306], [323, 307], [325, 309], [327, 292], [338, 305], [341, 326], [342, 328], [342, 329], [349, 317], [350, 338], [364, 333], [365, 333], [368, 336], [370, 346], [379, 331], [391, 350], [391, 369], [392, 351], [398, 340], [398, 359], [404, 361], [412, 384], [415, 373]]\n"
     ]
    }
   ],
   "source": [
    "data_ch3 = total_df[total_df.Ch == ch1][[\"Left\", \"Right\"]].to_numpy()\n",
    "data_ch4 = total_df[total_df.Ch == ch2][[\"Left\", \"Right\"]].to_numpy()\n",
    "\n",
    "def check_edges(edges, l_edge, r_edge):\n",
    "    return ((edges[0] >= l_edge) and (edges[0] <= r_edge)) or ((edges[1] >= l_edge) and (edges[1] <= r_edge))\n",
    "\n",
    "fragments_indexes = []\n",
    "for i in range(data_ch3.shape[0]):\n",
    "    for j in range(data_ch4.shape[0]):\n",
    "        if check_edges(data_ch4[j], data_ch3[i][0], data_ch3[i][1]) or check_edges(data_ch3[i], data_ch4[j][0], data_ch4[j][1]):\n",
    "            fragments_indexes.append([i, j])\n",
    "\n",
    "print(len(fragments_indexes), fragments_indexes)"
   ],
   "metadata": {
    "collapsed": false,
    "ExecuteTime": {
     "start_time": "2024-04-06T02:38:32.491317Z",
     "end_time": "2024-04-06T02:38:33.331175Z"
    }
   }
  },
  {
   "cell_type": "code",
   "execution_count": 51,
   "outputs": [],
   "source": [
    "fragments_data = pd.read_csv(\"data_csv/result_data/new_new/41226 DBS old_cnn_bin_class_12_result_fil_data.csv\")"
   ],
   "metadata": {
    "collapsed": false,
    "ExecuteTime": {
     "start_time": "2024-04-06T02:38:36.789179Z",
     "end_time": "2024-04-06T02:38:37.451348Z"
    }
   }
  },
  {
   "cell_type": "code",
   "execution_count": 55,
   "outputs": [],
   "source": [
    "filtered_fragments_data_ch3 = pd.DataFrame(fragments_data.iloc[0], columns=fragments_data.columns)\n",
    "filtered_fragments_data_ch4 = pd.DataFrame(fragments_data.iloc[0], columns=fragments_data.columns)\n",
    "fr_data_ch3 = fragments_data[fragments_data.Ch == ch1].to_numpy()\n",
    "fr_data_ch4 = fragments_data[fragments_data.Ch == ch2].to_numpy()"
   ],
   "metadata": {
    "collapsed": false,
    "ExecuteTime": {
     "start_time": "2024-04-06T02:39:13.318859Z",
     "end_time": "2024-04-06T02:39:13.373217Z"
    }
   }
  },
  {
   "cell_type": "code",
   "execution_count": 56,
   "outputs": [
    {
     "data": {
      "text/plain": "    D_ID   Ch    Y   Length Rate         0         1         2         3  \\\n0  41226  ch6  1.0  0.01675  4.0  -0.26563 -0.274406 -0.283238 -0.292126   \n1  41226  ch6  1.0    0.025  4.0  -0.11328 -0.098057 -0.082244 -0.065841   \n2  41226  ch6  1.0    0.015  4.0    1.9766  1.974463  1.973197  1.972803   \n3  41226  ch6  1.0    0.016  4.0   0.76367  0.953012  1.128204  1.289246   \n4  41226  ch6  1.0    0.016  4.0 -0.097656 -0.094993 -0.093023 -0.091745   \n\n          4  ...       502       503       504       505       506       507  \\\n0  -0.30107  ... -0.421612 -0.430421 -0.438771 -0.446662 -0.454095 -0.461069   \n1 -0.048849  ...  0.198464  0.226421  0.262572  0.301415  0.342523  0.385895   \n2  1.973281  ...  1.149802  1.171238  1.192377  1.213217  1.233759  1.254004   \n3  1.436138  ...  0.248337   0.25576  0.261157  0.264526   0.26587  0.265187   \n4  -0.09116  ... -0.298294 -0.394892 -0.501372 -0.617732 -0.743974 -0.880097   \n\n        508       509       510      511  \n0 -0.467584 -0.473641  -0.47924 -0.48438  \n1  0.431532  0.479433  0.529599  0.58203  \n2   1.27395  1.293598  1.312948    1.332  \n3  0.262477  0.257741  0.250979  0.24219  \n4 -1.026101 -1.181986 -1.347753  -1.5234  \n\n[5 rows x 517 columns]",
      "text/html": "<div>\n<style scoped>\n    .dataframe tbody tr th:only-of-type {\n        vertical-align: middle;\n    }\n\n    .dataframe tbody tr th {\n        vertical-align: top;\n    }\n\n    .dataframe thead th {\n        text-align: right;\n    }\n</style>\n<table border=\"1\" class=\"dataframe\">\n  <thead>\n    <tr style=\"text-align: right;\">\n      <th></th>\n      <th>D_ID</th>\n      <th>Ch</th>\n      <th>Y</th>\n      <th>Length</th>\n      <th>Rate</th>\n      <th>0</th>\n      <th>1</th>\n      <th>2</th>\n      <th>3</th>\n      <th>4</th>\n      <th>...</th>\n      <th>502</th>\n      <th>503</th>\n      <th>504</th>\n      <th>505</th>\n      <th>506</th>\n      <th>507</th>\n      <th>508</th>\n      <th>509</th>\n      <th>510</th>\n      <th>511</th>\n    </tr>\n  </thead>\n  <tbody>\n    <tr>\n      <th>0</th>\n      <td>41226</td>\n      <td>ch6</td>\n      <td>1.0</td>\n      <td>0.01675</td>\n      <td>4.0</td>\n      <td>-0.26563</td>\n      <td>-0.274406</td>\n      <td>-0.283238</td>\n      <td>-0.292126</td>\n      <td>-0.30107</td>\n      <td>...</td>\n      <td>-0.421612</td>\n      <td>-0.430421</td>\n      <td>-0.438771</td>\n      <td>-0.446662</td>\n      <td>-0.454095</td>\n      <td>-0.461069</td>\n      <td>-0.467584</td>\n      <td>-0.473641</td>\n      <td>-0.47924</td>\n      <td>-0.48438</td>\n    </tr>\n    <tr>\n      <th>1</th>\n      <td>41226</td>\n      <td>ch6</td>\n      <td>1.0</td>\n      <td>0.025</td>\n      <td>4.0</td>\n      <td>-0.11328</td>\n      <td>-0.098057</td>\n      <td>-0.082244</td>\n      <td>-0.065841</td>\n      <td>-0.048849</td>\n      <td>...</td>\n      <td>0.198464</td>\n      <td>0.226421</td>\n      <td>0.262572</td>\n      <td>0.301415</td>\n      <td>0.342523</td>\n      <td>0.385895</td>\n      <td>0.431532</td>\n      <td>0.479433</td>\n      <td>0.529599</td>\n      <td>0.58203</td>\n    </tr>\n    <tr>\n      <th>2</th>\n      <td>41226</td>\n      <td>ch6</td>\n      <td>1.0</td>\n      <td>0.015</td>\n      <td>4.0</td>\n      <td>1.9766</td>\n      <td>1.974463</td>\n      <td>1.973197</td>\n      <td>1.972803</td>\n      <td>1.973281</td>\n      <td>...</td>\n      <td>1.149802</td>\n      <td>1.171238</td>\n      <td>1.192377</td>\n      <td>1.213217</td>\n      <td>1.233759</td>\n      <td>1.254004</td>\n      <td>1.27395</td>\n      <td>1.293598</td>\n      <td>1.312948</td>\n      <td>1.332</td>\n    </tr>\n    <tr>\n      <th>3</th>\n      <td>41226</td>\n      <td>ch6</td>\n      <td>1.0</td>\n      <td>0.016</td>\n      <td>4.0</td>\n      <td>0.76367</td>\n      <td>0.953012</td>\n      <td>1.128204</td>\n      <td>1.289246</td>\n      <td>1.436138</td>\n      <td>...</td>\n      <td>0.248337</td>\n      <td>0.25576</td>\n      <td>0.261157</td>\n      <td>0.264526</td>\n      <td>0.26587</td>\n      <td>0.265187</td>\n      <td>0.262477</td>\n      <td>0.257741</td>\n      <td>0.250979</td>\n      <td>0.24219</td>\n    </tr>\n    <tr>\n      <th>4</th>\n      <td>41226</td>\n      <td>ch6</td>\n      <td>1.0</td>\n      <td>0.016</td>\n      <td>4.0</td>\n      <td>-0.097656</td>\n      <td>-0.094993</td>\n      <td>-0.093023</td>\n      <td>-0.091745</td>\n      <td>-0.09116</td>\n      <td>...</td>\n      <td>-0.298294</td>\n      <td>-0.394892</td>\n      <td>-0.501372</td>\n      <td>-0.617732</td>\n      <td>-0.743974</td>\n      <td>-0.880097</td>\n      <td>-1.026101</td>\n      <td>-1.181986</td>\n      <td>-1.347753</td>\n      <td>-1.5234</td>\n    </tr>\n  </tbody>\n</table>\n<p>5 rows × 517 columns</p>\n</div>"
     },
     "execution_count": 56,
     "metadata": {},
     "output_type": "execute_result"
    }
   ],
   "source": [
    "for indexes in fragments_indexes:\n",
    "    filtered_fragments_data_ch3.loc[-1] = fr_data_ch3[indexes[0]]\n",
    "    filtered_fragments_data_ch3.index = filtered_fragments_data_ch3.index + 1  # shifting index\n",
    "    filtered_fragments_data_ch3 = filtered_fragments_data_ch3.sort_index()  # sorting by index\n",
    "\n",
    "    filtered_fragments_data_ch4.loc[-1] = fr_data_ch4[indexes[1]]\n",
    "    filtered_fragments_data_ch4.index = filtered_fragments_data_ch4.index + 1  # shifting index\n",
    "    filtered_fragments_data_ch4 = filtered_fragments_data_ch4.sort_index()  # sorting by index\n",
    "\n",
    "filtered_fragments_data_ch3 = filtered_fragments_data_ch3.drop_duplicates()\n",
    "filtered_fragments_data_ch3.to_csv(f\"data_csv/filtered_data/41226_cnn_v12_result_fil_{ch1}_data.csv\", index=False)\n",
    "filtered_fragments_data_ch3.head()\n",
    "\n",
    "filtered_fragments_data_ch4 = filtered_fragments_data_ch4.drop_duplicates()\n",
    "filtered_fragments_data_ch4.to_csv(f\"data_csv/filtered_data/41226_cnn_v12_result_fil_{ch2}_data.csv\", index=False)\n",
    "filtered_fragments_data_ch4.head()"
   ],
   "metadata": {
    "collapsed": false,
    "ExecuteTime": {
     "start_time": "2024-04-06T02:39:13.928957Z",
     "end_time": "2024-04-06T02:39:27.667126Z"
    }
   }
  },
  {
   "cell_type": "code",
   "execution_count": 60,
   "outputs": [
    {
     "data": {
      "text/plain": "                t      ch1      ch2       ch3       ch4      ch5     ch6\n392400  198.10019  0.21289  0.16016 -0.181640 -0.083984 -0.68359  1.0859\n392401  198.10044  0.22461  0.15625 -0.248050  0.171870 -0.72266  1.2129\n392402  198.10069  0.24609  0.15430 -0.087891  0.376950 -0.81836  1.2422\n392403  198.10094  0.25391  0.14258  0.177730  0.447270 -0.93945  1.2188\n392404  198.10119  0.25195  0.13477  0.386720  0.382810 -1.04300  1.1777",
      "text/html": "<div>\n<style scoped>\n    .dataframe tbody tr th:only-of-type {\n        vertical-align: middle;\n    }\n\n    .dataframe tbody tr th {\n        vertical-align: top;\n    }\n\n    .dataframe thead th {\n        text-align: right;\n    }\n</style>\n<table border=\"1\" class=\"dataframe\">\n  <thead>\n    <tr style=\"text-align: right;\">\n      <th></th>\n      <th>t</th>\n      <th>ch1</th>\n      <th>ch2</th>\n      <th>ch3</th>\n      <th>ch4</th>\n      <th>ch5</th>\n      <th>ch6</th>\n    </tr>\n  </thead>\n  <tbody>\n    <tr>\n      <th>392400</th>\n      <td>198.10019</td>\n      <td>0.21289</td>\n      <td>0.16016</td>\n      <td>-0.181640</td>\n      <td>-0.083984</td>\n      <td>-0.68359</td>\n      <td>1.0859</td>\n    </tr>\n    <tr>\n      <th>392401</th>\n      <td>198.10044</td>\n      <td>0.22461</td>\n      <td>0.15625</td>\n      <td>-0.248050</td>\n      <td>0.171870</td>\n      <td>-0.72266</td>\n      <td>1.2129</td>\n    </tr>\n    <tr>\n      <th>392402</th>\n      <td>198.10069</td>\n      <td>0.24609</td>\n      <td>0.15430</td>\n      <td>-0.087891</td>\n      <td>0.376950</td>\n      <td>-0.81836</td>\n      <td>1.2422</td>\n    </tr>\n    <tr>\n      <th>392403</th>\n      <td>198.10094</td>\n      <td>0.25391</td>\n      <td>0.14258</td>\n      <td>0.177730</td>\n      <td>0.447270</td>\n      <td>-0.93945</td>\n      <td>1.2188</td>\n    </tr>\n    <tr>\n      <th>392404</th>\n      <td>198.10119</td>\n      <td>0.25195</td>\n      <td>0.13477</td>\n      <td>0.386720</td>\n      <td>0.382810</td>\n      <td>-1.04300</td>\n      <td>1.1777</td>\n    </tr>\n  </tbody>\n</table>\n</div>"
     },
     "execution_count": 60,
     "metadata": {},
     "output_type": "execute_result"
    }
   ],
   "source": [
    "from Files_operating import read_dataFile\n",
    "\n",
    "tot_signal = read_dataFile(\"data_csv/41226 DBS old.dat\", \"\")\n",
    "tot_signal = tot_signal.dropna(axis=1)\n",
    "fragment_df = tot_signal[(tot_signal.t >= 198.1) & (tot_signal.t <= 227.8)]\n",
    "fragment_df.head()"
   ],
   "metadata": {
    "collapsed": false,
    "ExecuteTime": {
     "start_time": "2024-04-06T02:58:11.741540Z",
     "end_time": "2024-04-06T02:58:15.915803Z"
    }
   }
  },
  {
   "cell_type": "code",
   "execution_count": 61,
   "outputs": [],
   "source": [
    "fragment_df.to_csv(\"data_csv/41226 DBS_fragment_for_DA_analytic.csv\", index=False)"
   ],
   "metadata": {
    "collapsed": false,
    "ExecuteTime": {
     "start_time": "2024-04-06T03:00:34.256173Z",
     "end_time": "2024-04-06T03:00:35.587323Z"
    }
   }
  },
  {
   "cell_type": "code",
   "execution_count": 64,
   "outputs": [
    {
     "data": {
      "text/plain": "            t       ch1\n98100  98.100  0.033230\n98101  98.101  0.058792\n98102  98.102  0.051123\n98103  98.103  0.051123\n98104  98.104  0.043455",
      "text/html": "<div>\n<style scoped>\n    .dataframe tbody tr th:only-of-type {\n        vertical-align: middle;\n    }\n\n    .dataframe tbody tr th {\n        vertical-align: top;\n    }\n\n    .dataframe thead th {\n        text-align: right;\n    }\n</style>\n<table border=\"1\" class=\"dataframe\">\n  <thead>\n    <tr style=\"text-align: right;\">\n      <th></th>\n      <th>t</th>\n      <th>ch1</th>\n    </tr>\n  </thead>\n  <tbody>\n    <tr>\n      <th>98100</th>\n      <td>98.100</td>\n      <td>0.033230</td>\n    </tr>\n    <tr>\n      <th>98101</th>\n      <td>98.101</td>\n      <td>0.058792</td>\n    </tr>\n    <tr>\n      <th>98102</th>\n      <td>98.102</td>\n      <td>0.051123</td>\n    </tr>\n    <tr>\n      <th>98103</th>\n      <td>98.103</td>\n      <td>0.051123</td>\n    </tr>\n    <tr>\n      <th>98104</th>\n      <td>98.104</td>\n      <td>0.043455</td>\n    </tr>\n  </tbody>\n</table>\n</div>"
     },
     "execution_count": 64,
     "metadata": {},
     "output_type": "execute_result"
    }
   ],
   "source": [
    "tot_signal = read_dataFile(\"data_csv/41226 DA.dat\", \"\")\n",
    "tot_signal = tot_signal.dropna(axis=1)\n",
    "fragment_df = tot_signal[(tot_signal.t >= 98.1) & (tot_signal.t <= 127.8)]\n",
    "fragment_df.head()"
   ],
   "metadata": {
    "collapsed": false,
    "ExecuteTime": {
     "start_time": "2024-04-06T03:04:41.104059Z",
     "end_time": "2024-04-06T03:04:42.835784Z"
    }
   }
  },
  {
   "cell_type": "code",
   "execution_count": null,
   "outputs": [],
   "source": [
    "fragment_df.to_csv(\"data_csv/41226 DA_fragment.csv\", index=False)"
   ],
   "metadata": {
    "collapsed": false,
    "ExecuteTime": {
     "start_time": "2024-04-06T03:03:41.323817Z",
     "end_time": "2024-04-06T03:03:41.396874Z"
    }
   }
  },
  {
   "cell_type": "code",
   "execution_count": null,
   "outputs": [],
   "source": [],
   "metadata": {
    "collapsed": false
   }
  }
 ],
 "metadata": {
  "kernelspec": {
   "display_name": "Python 3",
   "language": "python",
   "name": "python3"
  },
  "language_info": {
   "codemirror_mode": {
    "name": "ipython",
    "version": 2
   },
   "file_extension": ".py",
   "mimetype": "text/x-python",
   "name": "python",
   "nbconvert_exporter": "python",
   "pygments_lexer": "ipython2",
   "version": "2.7.6"
  }
 },
 "nbformat": 4,
 "nbformat_minor": 0
}
