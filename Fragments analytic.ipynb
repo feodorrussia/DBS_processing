{
 "cells": [
  {
   "cell_type": "code",
   "execution_count": 2,
   "metadata": {
    "collapsed": true,
    "ExecuteTime": {
     "start_time": "2024-04-06T00:20:03.444444Z",
     "end_time": "2024-04-06T00:20:04.200339Z"
    }
   },
   "outputs": [
    {
     "name": "stderr",
     "output_type": "stream",
     "text": [
      "C:\\Users\\fvdel\\AppData\\Local\\Temp\\ipykernel_1264\\2937650959.py:1: DeprecationWarning: \n",
      "Pyarrow will become a required dependency of pandas in the next major release of pandas (pandas 3.0),\n",
      "(to allow more performant data types, such as the Arrow string type, and better interoperability with other libraries)\n",
      "but was not found to be installed on your system.\n",
      "If this would cause problems for you,\n",
      "please provide us feedback at https://github.com/pandas-dev/pandas/issues/54466\n",
      "        \n",
      "  import pandas as pd\n"
     ]
    }
   ],
   "source": [
    "import pandas as pd\n",
    "import numpy as np"
   ]
  },
  {
   "cell_type": "code",
   "execution_count": 3,
   "outputs": [
    {
     "data": {
      "text/plain": "    Ch    Y       Left      Right  Rate\n0  ch3  1.0  119.75454  119.77429   4.0\n1  ch3  1.0  116.54303  116.55678   4.0\n2  ch3  1.0  109.79552  109.80527   4.0\n3  ch3  1.0  109.41902  109.44677   4.0\n4  ch3  1.0  108.49802  108.51027   4.0",
      "text/html": "<div>\n<style scoped>\n    .dataframe tbody tr th:only-of-type {\n        vertical-align: middle;\n    }\n\n    .dataframe tbody tr th {\n        vertical-align: top;\n    }\n\n    .dataframe thead th {\n        text-align: right;\n    }\n</style>\n<table border=\"1\" class=\"dataframe\">\n  <thead>\n    <tr style=\"text-align: right;\">\n      <th></th>\n      <th>Ch</th>\n      <th>Y</th>\n      <th>Left</th>\n      <th>Right</th>\n      <th>Rate</th>\n    </tr>\n  </thead>\n  <tbody>\n    <tr>\n      <th>0</th>\n      <td>ch3</td>\n      <td>1.0</td>\n      <td>119.75454</td>\n      <td>119.77429</td>\n      <td>4.0</td>\n    </tr>\n    <tr>\n      <th>1</th>\n      <td>ch3</td>\n      <td>1.0</td>\n      <td>116.54303</td>\n      <td>116.55678</td>\n      <td>4.0</td>\n    </tr>\n    <tr>\n      <th>2</th>\n      <td>ch3</td>\n      <td>1.0</td>\n      <td>109.79552</td>\n      <td>109.80527</td>\n      <td>4.0</td>\n    </tr>\n    <tr>\n      <th>3</th>\n      <td>ch3</td>\n      <td>1.0</td>\n      <td>109.41902</td>\n      <td>109.44677</td>\n      <td>4.0</td>\n    </tr>\n    <tr>\n      <th>4</th>\n      <td>ch3</td>\n      <td>1.0</td>\n      <td>108.49802</td>\n      <td>108.51027</td>\n      <td>4.0</td>\n    </tr>\n  </tbody>\n</table>\n</div>"
     },
     "execution_count": 3,
     "metadata": {},
     "output_type": "execute_result"
    }
   ],
   "source": [
    "total_df = pd.read_csv(\"data_csv/result_fragments/new_new_41226 DBS old_cnn_bin_class_12_result_fil_fragments.csv\")\n",
    "total_df.head()"
   ],
   "metadata": {
    "collapsed": false,
    "ExecuteTime": {
     "start_time": "2024-04-06T00:20:04.902301Z",
     "end_time": "2024-04-06T00:20:04.944313Z"
    }
   }
  },
  {
   "cell_type": "code",
   "execution_count": 4,
   "outputs": [
    {
     "data": {
      "text/plain": "     count\nCh        \nch1    238\nch2    238\nch3    425\nch4    289\nch5    183\nch6    174",
      "text/html": "<div>\n<style scoped>\n    .dataframe tbody tr th:only-of-type {\n        vertical-align: middle;\n    }\n\n    .dataframe tbody tr th {\n        vertical-align: top;\n    }\n\n    .dataframe thead th {\n        text-align: right;\n    }\n</style>\n<table border=\"1\" class=\"dataframe\">\n  <thead>\n    <tr style=\"text-align: right;\">\n      <th></th>\n      <th>count</th>\n    </tr>\n    <tr>\n      <th>Ch</th>\n      <th></th>\n    </tr>\n  </thead>\n  <tbody>\n    <tr>\n      <th>ch1</th>\n      <td>238</td>\n    </tr>\n    <tr>\n      <th>ch2</th>\n      <td>238</td>\n    </tr>\n    <tr>\n      <th>ch3</th>\n      <td>425</td>\n    </tr>\n    <tr>\n      <th>ch4</th>\n      <td>289</td>\n    </tr>\n    <tr>\n      <th>ch5</th>\n      <td>183</td>\n    </tr>\n    <tr>\n      <th>ch6</th>\n      <td>174</td>\n    </tr>\n  </tbody>\n</table>\n</div>"
     },
     "execution_count": 4,
     "metadata": {},
     "output_type": "execute_result"
    }
   ],
   "source": [
    "total_df.groupby([\"Ch\"])[\"Y\"].agg([\"count\"])"
   ],
   "metadata": {
    "collapsed": false,
    "ExecuteTime": {
     "start_time": "2024-04-06T00:20:06.612034Z",
     "end_time": "2024-04-06T00:20:06.649068Z"
    }
   }
  },
  {
   "cell_type": "code",
   "execution_count": 5,
   "outputs": [
    {
     "name": "stdout",
     "output_type": "stream",
     "text": [
      "57 [[20, 71], [29, 51], [30, 97], [30, 98], [32, 86], [35, 87], [35, 88], [61, 130], [67, 136], [68, 137], [85, 189], [91, 214], [92, 219], [93, 200], [93, 201], [99, 180], [104, 232], [107, 237], [114, 260], [132, 26], [139, 37], [147, 47], [148, 47], [155, 35], [158, 40], [171, 54], [180, 62], [195, 78], [204, 72], [207, 97], [207, 98], [208, 99], [211, 81], [213, 82], [216, 87], [216, 88], [219, 94], [222, 95], [228, 117], [233, 107], [274, 130], [275, 130], [277, 157], [278, 157], [287, 152], [313, 169], [314, 150], [329, 185], [335, 189], [343, 191], [354, 219], [362, 229], [372, 237], [375, 225], [404, 266], [412, 274], [412, 275]]\n"
     ]
    }
   ],
   "source": [
    "data_ch3 = total_df[total_df.Ch == \"ch3\"][[\"Left\", \"Right\"]].to_numpy()\n",
    "data_ch4 = total_df[total_df.Ch == \"ch4\"][[\"Left\", \"Right\"]].to_numpy()\n",
    "\n",
    "def check_edges(edges, l_edge, r_edge):\n",
    "    return ((edges[0] >= l_edge) and (edges[0] <= r_edge)) or ((edges[1] >= l_edge) and (edges[1] <= r_edge))\n",
    "\n",
    "fragments_indexes = []\n",
    "for i in range(data_ch3.shape[0]):\n",
    "    for j in range(data_ch4.shape[0]):\n",
    "        if check_edges(data_ch4[j], data_ch3[i][0], data_ch3[i][1]) or check_edges(data_ch3[i], data_ch4[j][0], data_ch4[j][1]):\n",
    "            fragments_indexes.append([i, j])\n",
    "\n",
    "print(len(fragments_indexes), fragments_indexes)"
   ],
   "metadata": {
    "collapsed": false,
    "ExecuteTime": {
     "start_time": "2024-04-06T00:20:10.659699Z",
     "end_time": "2024-04-06T00:20:10.908897Z"
    }
   }
  },
  {
   "cell_type": "code",
   "execution_count": 22,
   "outputs": [],
   "source": [
    "fragments_data = pd.read_csv(\"data_csv/result_data/new_new_41226 DBS old_cnn_bin_class_12_result_fil_data.csv\")"
   ],
   "metadata": {
    "collapsed": false,
    "ExecuteTime": {
     "start_time": "2024-04-06T00:30:16.411030Z",
     "end_time": "2024-04-06T00:30:16.580076Z"
    }
   }
  },
  {
   "cell_type": "code",
   "execution_count": 23,
   "outputs": [],
   "source": [
    "filtered_fragments_data_ch3 = pd.DataFrame(fragments_data.iloc[0], columns=fragments_data.columns)\n",
    "filtered_fragments_data_ch4 = pd.DataFrame(fragments_data.iloc[0], columns=fragments_data.columns)\n",
    "fr_data_ch3 = fragments_data[fragments_data.Ch == \"ch3\"].to_numpy()\n",
    "fr_data_ch4 = fragments_data[fragments_data.Ch == \"ch4\"].to_numpy()"
   ],
   "metadata": {
    "collapsed": false,
    "ExecuteTime": {
     "start_time": "2024-04-06T00:30:17.535478Z",
     "end_time": "2024-04-06T00:30:17.542478Z"
    }
   }
  },
  {
   "cell_type": "code",
   "execution_count": 24,
   "outputs": [
    {
     "data": {
      "text/plain": "    D_ID   Ch    Y   Length Rate         0         1         2         3  \\\n0  41226  ch4  1.0    0.031  4.0   0.33594  0.325466   0.31411  0.301874   \n1  41226  ch4  1.0  0.02475  4.0    0.2793   0.29359   0.30483  0.313022   \n2  41226  ch4  1.0  0.02475  4.0  0.080078  0.089929  0.096683  0.100339   \n3  41226  ch4  1.0    0.017  4.0   0.15039  0.157049  0.162701  0.167346   \n4  41226  ch4  1.0    0.029  4.0   0.14063  0.144107  0.145801  0.145714   \n\n          4  ...       502       503       504       505       506       507  \\\n0  0.288756  ...  0.153521  0.156992  0.159396  0.160746  0.161578  0.162169   \n1  0.318165  ...   0.19622  0.198247  0.198634  0.196736  0.192522  0.185993   \n2  0.100897  ...  0.745008   0.74613  0.743122  0.737364  0.728924  0.717801   \n3  0.170984  ...  0.119686  0.121625  0.124908  0.129536   0.13551  0.142828   \n4  0.143845  ... -0.542415 -0.557046 -0.575188 -0.592084 -0.588721 -0.563115   \n\n        508       509       510      511  \n0  0.162517  0.162623  0.162488  0.16211  \n1  0.177148  0.165988  0.152512  0.13672  \n2  0.703995  0.687506  0.668335  0.64648  \n3  0.151491  0.161499  0.172852  0.18555  \n4 -0.515269  -0.44518 -0.352851 -0.23828  \n\n[5 rows x 517 columns]",
      "text/html": "<div>\n<style scoped>\n    .dataframe tbody tr th:only-of-type {\n        vertical-align: middle;\n    }\n\n    .dataframe tbody tr th {\n        vertical-align: top;\n    }\n\n    .dataframe thead th {\n        text-align: right;\n    }\n</style>\n<table border=\"1\" class=\"dataframe\">\n  <thead>\n    <tr style=\"text-align: right;\">\n      <th></th>\n      <th>D_ID</th>\n      <th>Ch</th>\n      <th>Y</th>\n      <th>Length</th>\n      <th>Rate</th>\n      <th>0</th>\n      <th>1</th>\n      <th>2</th>\n      <th>3</th>\n      <th>4</th>\n      <th>...</th>\n      <th>502</th>\n      <th>503</th>\n      <th>504</th>\n      <th>505</th>\n      <th>506</th>\n      <th>507</th>\n      <th>508</th>\n      <th>509</th>\n      <th>510</th>\n      <th>511</th>\n    </tr>\n  </thead>\n  <tbody>\n    <tr>\n      <th>0</th>\n      <td>41226</td>\n      <td>ch4</td>\n      <td>1.0</td>\n      <td>0.031</td>\n      <td>4.0</td>\n      <td>0.33594</td>\n      <td>0.325466</td>\n      <td>0.31411</td>\n      <td>0.301874</td>\n      <td>0.288756</td>\n      <td>...</td>\n      <td>0.153521</td>\n      <td>0.156992</td>\n      <td>0.159396</td>\n      <td>0.160746</td>\n      <td>0.161578</td>\n      <td>0.162169</td>\n      <td>0.162517</td>\n      <td>0.162623</td>\n      <td>0.162488</td>\n      <td>0.16211</td>\n    </tr>\n    <tr>\n      <th>1</th>\n      <td>41226</td>\n      <td>ch4</td>\n      <td>1.0</td>\n      <td>0.02475</td>\n      <td>4.0</td>\n      <td>0.2793</td>\n      <td>0.29359</td>\n      <td>0.30483</td>\n      <td>0.313022</td>\n      <td>0.318165</td>\n      <td>...</td>\n      <td>0.19622</td>\n      <td>0.198247</td>\n      <td>0.198634</td>\n      <td>0.196736</td>\n      <td>0.192522</td>\n      <td>0.185993</td>\n      <td>0.177148</td>\n      <td>0.165988</td>\n      <td>0.152512</td>\n      <td>0.13672</td>\n    </tr>\n    <tr>\n      <th>2</th>\n      <td>41226</td>\n      <td>ch4</td>\n      <td>1.0</td>\n      <td>0.02475</td>\n      <td>4.0</td>\n      <td>0.080078</td>\n      <td>0.089929</td>\n      <td>0.096683</td>\n      <td>0.100339</td>\n      <td>0.100897</td>\n      <td>...</td>\n      <td>0.745008</td>\n      <td>0.74613</td>\n      <td>0.743122</td>\n      <td>0.737364</td>\n      <td>0.728924</td>\n      <td>0.717801</td>\n      <td>0.703995</td>\n      <td>0.687506</td>\n      <td>0.668335</td>\n      <td>0.64648</td>\n    </tr>\n    <tr>\n      <th>3</th>\n      <td>41226</td>\n      <td>ch4</td>\n      <td>1.0</td>\n      <td>0.017</td>\n      <td>4.0</td>\n      <td>0.15039</td>\n      <td>0.157049</td>\n      <td>0.162701</td>\n      <td>0.167346</td>\n      <td>0.170984</td>\n      <td>...</td>\n      <td>0.119686</td>\n      <td>0.121625</td>\n      <td>0.124908</td>\n      <td>0.129536</td>\n      <td>0.13551</td>\n      <td>0.142828</td>\n      <td>0.151491</td>\n      <td>0.161499</td>\n      <td>0.172852</td>\n      <td>0.18555</td>\n    </tr>\n    <tr>\n      <th>4</th>\n      <td>41226</td>\n      <td>ch4</td>\n      <td>1.0</td>\n      <td>0.029</td>\n      <td>4.0</td>\n      <td>0.14063</td>\n      <td>0.144107</td>\n      <td>0.145801</td>\n      <td>0.145714</td>\n      <td>0.143845</td>\n      <td>...</td>\n      <td>-0.542415</td>\n      <td>-0.557046</td>\n      <td>-0.575188</td>\n      <td>-0.592084</td>\n      <td>-0.588721</td>\n      <td>-0.563115</td>\n      <td>-0.515269</td>\n      <td>-0.44518</td>\n      <td>-0.352851</td>\n      <td>-0.23828</td>\n    </tr>\n  </tbody>\n</table>\n<p>5 rows × 517 columns</p>\n</div>"
     },
     "execution_count": 24,
     "metadata": {},
     "output_type": "execute_result"
    }
   ],
   "source": [
    "for indexes in fragments_indexes:\n",
    "    filtered_fragments_data_ch3.loc[-1] = fr_data_ch3[indexes[0]]\n",
    "    filtered_fragments_data_ch3.index = filtered_fragments_data_ch3.index + 1  # shifting index\n",
    "    filtered_fragments_data_ch3 = filtered_fragments_data_ch3.sort_index()  # sorting by index\n",
    "\n",
    "    filtered_fragments_data_ch4.loc[-1] = fr_data_ch4[indexes[1]]\n",
    "    filtered_fragments_data_ch4.index = filtered_fragments_data_ch4.index + 1  # shifting index\n",
    "    filtered_fragments_data_ch4 = filtered_fragments_data_ch4.sort_index()  # sorting by index\n",
    "\n",
    "filtered_fragments_data_ch3 = filtered_fragments_data_ch3.drop_duplicates()\n",
    "filtered_fragments_data_ch3.to_csv(\"data_csv/filtered_data/41226_cnn_v12_result_fil_ch3_data.csv\", index=False)\n",
    "filtered_fragments_data_ch3.head()\n",
    "\n",
    "filtered_fragments_data_ch4 = filtered_fragments_data_ch4.drop_duplicates()\n",
    "filtered_fragments_data_ch4.to_csv(\"data_csv/filtered_data/41226_cnn_v12_result_fil_ch4_data.csv\", index=False)\n",
    "filtered_fragments_data_ch4.head()"
   ],
   "metadata": {
    "collapsed": false,
    "ExecuteTime": {
     "start_time": "2024-04-06T00:30:18.157122Z",
     "end_time": "2024-04-06T00:30:23.270400Z"
    }
   }
  },
  {
   "cell_type": "code",
   "execution_count": null,
   "outputs": [],
   "source": [],
   "metadata": {
    "collapsed": false
   }
  }
 ],
 "metadata": {
  "kernelspec": {
   "display_name": "Python 3",
   "language": "python",
   "name": "python3"
  },
  "language_info": {
   "codemirror_mode": {
    "name": "ipython",
    "version": 2
   },
   "file_extension": ".py",
   "mimetype": "text/x-python",
   "name": "python",
   "nbconvert_exporter": "python",
   "pygments_lexer": "ipython2",
   "version": "2.7.6"
  }
 },
 "nbformat": 4,
 "nbformat_minor": 0
}
