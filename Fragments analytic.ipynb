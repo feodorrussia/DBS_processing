{
 "cells": [
  {
   "cell_type": "code",
   "execution_count": 3,
   "metadata": {
    "collapsed": true,
    "ExecuteTime": {
     "start_time": "2024-04-06T15:14:39.750022Z",
     "end_time": "2024-04-06T15:14:39.773027Z"
    }
   },
   "outputs": [],
   "source": [
    "import numpy as np\n",
    "import pandas as pd"
   ]
  },
  {
   "cell_type": "code",
   "execution_count": 5,
   "outputs": [],
   "source": [
    "ch1 = \"ch1\"\n",
    "ch2 = \"ch3\"\n",
    "\n",
    "file_id = 41228"
   ],
   "metadata": {
    "collapsed": false,
    "ExecuteTime": {
     "start_time": "2024-04-06T15:15:07.965417Z",
     "end_time": "2024-04-06T15:15:07.982421Z"
    }
   }
  },
  {
   "cell_type": "code",
   "execution_count": 6,
   "outputs": [
    {
     "data": {
      "text/plain": "     count\nCh        \nch1   1233\nch2   1272\nch3   1200\nch4   1279\nch5   1209\nch6   1256\nch7   1160\nch8   1068",
      "text/html": "<div>\n<style scoped>\n    .dataframe tbody tr th:only-of-type {\n        vertical-align: middle;\n    }\n\n    .dataframe tbody tr th {\n        vertical-align: top;\n    }\n\n    .dataframe thead th {\n        text-align: right;\n    }\n</style>\n<table border=\"1\" class=\"dataframe\">\n  <thead>\n    <tr style=\"text-align: right;\">\n      <th></th>\n      <th>count</th>\n    </tr>\n    <tr>\n      <th>Ch</th>\n      <th></th>\n    </tr>\n  </thead>\n  <tbody>\n    <tr>\n      <th>ch1</th>\n      <td>1233</td>\n    </tr>\n    <tr>\n      <th>ch2</th>\n      <td>1272</td>\n    </tr>\n    <tr>\n      <th>ch3</th>\n      <td>1200</td>\n    </tr>\n    <tr>\n      <th>ch4</th>\n      <td>1279</td>\n    </tr>\n    <tr>\n      <th>ch5</th>\n      <td>1209</td>\n    </tr>\n    <tr>\n      <th>ch6</th>\n      <td>1256</td>\n    </tr>\n    <tr>\n      <th>ch7</th>\n      <td>1160</td>\n    </tr>\n    <tr>\n      <th>ch8</th>\n      <td>1068</td>\n    </tr>\n  </tbody>\n</table>\n</div>"
     },
     "execution_count": 6,
     "metadata": {},
     "output_type": "execute_result"
    }
   ],
   "source": [
    "total_df = pd.read_csv(f\"data_csv/result_fragments/new_new/{file_id} DBS old_cnn_bin_class_12_result_fil_fragments.csv\")\n",
    "fragments_data = pd.read_csv(f\"data_csv/result_data/new_new/{file_id} DBS old_cnn_bin_class_12_result_fil_data.csv\")\n",
    "total_df.groupby([\"Ch\"])[\"Y\"].agg([\"count\"])"
   ],
   "metadata": {
    "collapsed": false,
    "ExecuteTime": {
     "start_time": "2024-04-06T15:15:08.218192Z",
     "end_time": "2024-04-06T15:15:09.159403Z"
    }
   }
  },
  {
   "cell_type": "code",
   "execution_count": 7,
   "outputs": [],
   "source": [
    "# data_ch3 = total_df[total_df.Ch == ch1][[\"Left\", \"Right\"]].to_numpy()\n",
    "# data_ch4 = total_df[total_df.Ch == ch2][[\"Left\", \"Right\"]].to_numpy()\n",
    "#\n",
    "#\n",
    "# def check_edges(edges, l_edge, r_edge):\n",
    "#     return ((edges[0] >= l_edge) and (edges[0] <= r_edge)) or ((edges[1] >= l_edge) and (edges[1] <= r_edge))\n",
    "#\n",
    "#\n",
    "# fragments_indexes = []\n",
    "# for i in range(data_ch3.shape[0]):\n",
    "#     for j in range(data_ch4.shape[0]):\n",
    "#         if check_edges(data_ch4[j], data_ch3[i][0], data_ch3[i][1]) or check_edges(data_ch3[i], data_ch4[j][0],\n",
    "#                                                                                    data_ch4[j][1]):\n",
    "#             fragments_indexes.append([i, j])\n",
    "#\n",
    "# print(len(fragments_indexes))"
   ],
   "metadata": {
    "collapsed": false,
    "ExecuteTime": {
     "start_time": "2024-04-06T15:15:09.160402Z",
     "end_time": "2024-04-06T15:15:09.173525Z"
    }
   }
  },
  {
   "cell_type": "code",
   "execution_count": 8,
   "outputs": [],
   "source": [
    "channels = total_df[\"Ch\"].unique().tolist()"
   ],
   "metadata": {
    "collapsed": false,
    "ExecuteTime": {
     "start_time": "2024-04-06T15:15:09.209415Z",
     "end_time": "2024-04-06T15:15:09.289925Z"
    }
   }
  },
  {
   "cell_type": "code",
   "execution_count": 16,
   "outputs": [
    {
     "name": "stdout",
     "output_type": "stream",
     "text": [
      "91\n"
     ]
    }
   ],
   "source": [
    "data_channels = [total_df[total_df.Ch == ch][[\"Left\", \"Right\"]].to_numpy() for ch in channels]\n",
    "\n",
    "data_ch3 = total_df[total_df.Ch == ch1][[\"Left\", \"Right\"]].to_numpy()\n",
    "data_ch4 = total_df[total_df.Ch == ch2][[\"Left\", \"Right\"]].to_numpy()\n",
    "\n",
    "\n",
    "def check_edges(edges, l_edge, r_edge):\n",
    "    return ((edges[0] >= l_edge) and (edges[0] <= r_edge)) or ((edges[1] >= l_edge) and (edges[1] <= r_edge))\n",
    "\n",
    "\n",
    "fragments_indexes = []\n",
    "for i in range(data_channels[0].shape[0]):\n",
    "    fragment_ch_indexes = []\n",
    "    count_ch = 0\n",
    "    for data_ch in data_channels[1:]:\n",
    "        for j in range(data_ch.shape[0]):\n",
    "            if check_edges(data_ch[j], data_channels[0][i][0], data_channels[0][i][1]) or check_edges(data_channels[0][i], data_ch[j][0],\n",
    "                                                                                       data_ch[j][1]):\n",
    "                fragment_ch_indexes.append(j)\n",
    "                count_ch += 1\n",
    "                break\n",
    "        else:\n",
    "            fragment_ch_indexes.append(np.nan)\n",
    "    # print(len(fragment_ch_indexes), len(data_channels) - 1)\n",
    "    if count_ch >= len(data_channels) // 2:\n",
    "        fragments_indexes.append([i] + fragment_ch_indexes)\n",
    "\n",
    "print(len(fragments_indexes))"
   ],
   "metadata": {
    "collapsed": false,
    "ExecuteTime": {
     "start_time": "2024-04-06T15:27:06.415687Z",
     "end_time": "2024-04-06T15:27:24.561427Z"
    }
   }
  },
  {
   "cell_type": "code",
   "execution_count": 19,
   "outputs": [],
   "source": [
    "fragments_indexes = np.array(fragments_indexes).transpose()\n",
    "\n",
    "for ch_i in range(len(channels)):\n",
    "    fragment_ch_indexes = fragments_indexes[ch_i]\n",
    "    fragment_ch_indexes = fragment_ch_indexes[~np.isnan(fragment_ch_indexes)].astype(int)\n",
    "\n",
    "    fr_data_ch = fragments_data[fragments_data.Ch == channels[ch_i]].to_numpy()\n",
    "    filtered_fragments_data_ch = pd.DataFrame(fr_data_ch[fragment_ch_indexes], columns=fragments_data.columns)\n",
    "\n",
    "    filtered_fragments_data_ch = filtered_fragments_data_ch.drop_duplicates()\n",
    "    filtered_fragments_data_ch.to_csv(f\"data_csv/filtered_data/{file_id}_cnn_v12_result_fil_{channels[ch_i]}_sync_data.csv\", index=False)"
   ],
   "metadata": {
    "collapsed": false,
    "ExecuteTime": {
     "start_time": "2024-04-06T15:28:24.881900Z",
     "end_time": "2024-04-06T15:28:25.770957Z"
    }
   }
  },
  {
   "cell_type": "code",
   "execution_count": 97,
   "outputs": [],
   "source": [
    "# filtered_fragments_data_ch3 = pd.DataFrame(fragments_data.iloc[0], columns=fragments_data.columns)\n",
    "# filtered_fragments_data_ch4 = pd.DataFrame(fragments_data.iloc[0], columns=fragments_data.columns)\n",
    "fr_data_ch3 = fragments_data[fragments_data.Ch == ch1].to_numpy()\n",
    "fr_data_ch4 = fragments_data[fragments_data.Ch == ch2].to_numpy()"
   ],
   "metadata": {
    "collapsed": false,
    "ExecuteTime": {
     "start_time": "2024-04-06T04:43:13.275369Z",
     "end_time": "2024-04-06T04:43:13.397179Z"
    }
   }
  },
  {
   "cell_type": "code",
   "execution_count": 98,
   "outputs": [],
   "source": [
    "fragments_indexes = np.array(fragments_indexes).transpose()\n",
    "\n",
    "filtered_fragments_data_ch3 = pd.DataFrame(fr_data_ch3[fragments_indexes[0]], columns=fragments_data.columns)\n",
    "filtered_fragments_data_ch4 = pd.DataFrame(fr_data_ch4[fragments_indexes[1]], columns=fragments_data.columns)\n",
    "\n",
    "filtered_fragments_data_ch3 = filtered_fragments_data_ch3.drop_duplicates()\n",
    "filtered_fragments_data_ch3.to_csv(f\"data_csv/filtered_data/{file_id}_cnn_v12_result_fil_{ch1}_data.csv\", index=False)\n",
    "\n",
    "filtered_fragments_data_ch4 = filtered_fragments_data_ch4.drop_duplicates()\n",
    "filtered_fragments_data_ch4.to_csv(f\"data_csv/filtered_data/{file_id}_cnn_v12_result_fil_{ch2}_data.csv\", index=False)"
   ],
   "metadata": {
    "collapsed": false,
    "ExecuteTime": {
     "start_time": "2024-04-06T04:43:14.198643Z",
     "end_time": "2024-04-06T04:43:15.398348Z"
    }
   }
  },
  {
   "cell_type": "markdown",
   "source": [
    "---\n",
    "---"
   ],
   "metadata": {
    "collapsed": false
   }
  },
  {
   "cell_type": "code",
   "execution_count": 60,
   "outputs": [
    {
     "data": {
      "text/plain": "                t      ch1      ch2       ch3       ch4      ch5     ch6\n392400  198.10019  0.21289  0.16016 -0.181640 -0.083984 -0.68359  1.0859\n392401  198.10044  0.22461  0.15625 -0.248050  0.171870 -0.72266  1.2129\n392402  198.10069  0.24609  0.15430 -0.087891  0.376950 -0.81836  1.2422\n392403  198.10094  0.25391  0.14258  0.177730  0.447270 -0.93945  1.2188\n392404  198.10119  0.25195  0.13477  0.386720  0.382810 -1.04300  1.1777",
      "text/html": "<div>\n<style scoped>\n    .dataframe tbody tr th:only-of-type {\n        vertical-align: middle;\n    }\n\n    .dataframe tbody tr th {\n        vertical-align: top;\n    }\n\n    .dataframe thead th {\n        text-align: right;\n    }\n</style>\n<table border=\"1\" class=\"dataframe\">\n  <thead>\n    <tr style=\"text-align: right;\">\n      <th></th>\n      <th>t</th>\n      <th>ch1</th>\n      <th>ch2</th>\n      <th>ch3</th>\n      <th>ch4</th>\n      <th>ch5</th>\n      <th>ch6</th>\n    </tr>\n  </thead>\n  <tbody>\n    <tr>\n      <th>392400</th>\n      <td>198.10019</td>\n      <td>0.21289</td>\n      <td>0.16016</td>\n      <td>-0.181640</td>\n      <td>-0.083984</td>\n      <td>-0.68359</td>\n      <td>1.0859</td>\n    </tr>\n    <tr>\n      <th>392401</th>\n      <td>198.10044</td>\n      <td>0.22461</td>\n      <td>0.15625</td>\n      <td>-0.248050</td>\n      <td>0.171870</td>\n      <td>-0.72266</td>\n      <td>1.2129</td>\n    </tr>\n    <tr>\n      <th>392402</th>\n      <td>198.10069</td>\n      <td>0.24609</td>\n      <td>0.15430</td>\n      <td>-0.087891</td>\n      <td>0.376950</td>\n      <td>-0.81836</td>\n      <td>1.2422</td>\n    </tr>\n    <tr>\n      <th>392403</th>\n      <td>198.10094</td>\n      <td>0.25391</td>\n      <td>0.14258</td>\n      <td>0.177730</td>\n      <td>0.447270</td>\n      <td>-0.93945</td>\n      <td>1.2188</td>\n    </tr>\n    <tr>\n      <th>392404</th>\n      <td>198.10119</td>\n      <td>0.25195</td>\n      <td>0.13477</td>\n      <td>0.386720</td>\n      <td>0.382810</td>\n      <td>-1.04300</td>\n      <td>1.1777</td>\n    </tr>\n  </tbody>\n</table>\n</div>"
     },
     "execution_count": 60,
     "metadata": {},
     "output_type": "execute_result"
    }
   ],
   "source": [
    "from Files_operating import read_dataFile\n",
    "\n",
    "tot_signal = read_dataFile(\"data_csv/41226 DBS old.dat\", \"\")\n",
    "tot_signal = tot_signal.dropna(axis=1)\n",
    "fragment_df = tot_signal[(tot_signal.t >= 198.1) & (tot_signal.t <= 227.8)]\n",
    "fragment_df.head()"
   ],
   "metadata": {
    "collapsed": false,
    "ExecuteTime": {
     "start_time": "2024-04-06T02:58:11.741540Z",
     "end_time": "2024-04-06T02:58:15.915803Z"
    }
   }
  },
  {
   "cell_type": "code",
   "execution_count": 61,
   "outputs": [],
   "source": [
    "fragment_df.to_csv(\"data_csv/41226 DBS_fragment_for_DA_analytic.csv\", index=False)"
   ],
   "metadata": {
    "collapsed": false,
    "ExecuteTime": {
     "start_time": "2024-04-06T03:00:34.256173Z",
     "end_time": "2024-04-06T03:00:35.587323Z"
    }
   }
  },
  {
   "cell_type": "code",
   "execution_count": 64,
   "outputs": [
    {
     "data": {
      "text/plain": "            t       ch1\n98100  98.100  0.033230\n98101  98.101  0.058792\n98102  98.102  0.051123\n98103  98.103  0.051123\n98104  98.104  0.043455",
      "text/html": "<div>\n<style scoped>\n    .dataframe tbody tr th:only-of-type {\n        vertical-align: middle;\n    }\n\n    .dataframe tbody tr th {\n        vertical-align: top;\n    }\n\n    .dataframe thead th {\n        text-align: right;\n    }\n</style>\n<table border=\"1\" class=\"dataframe\">\n  <thead>\n    <tr style=\"text-align: right;\">\n      <th></th>\n      <th>t</th>\n      <th>ch1</th>\n    </tr>\n  </thead>\n  <tbody>\n    <tr>\n      <th>98100</th>\n      <td>98.100</td>\n      <td>0.033230</td>\n    </tr>\n    <tr>\n      <th>98101</th>\n      <td>98.101</td>\n      <td>0.058792</td>\n    </tr>\n    <tr>\n      <th>98102</th>\n      <td>98.102</td>\n      <td>0.051123</td>\n    </tr>\n    <tr>\n      <th>98103</th>\n      <td>98.103</td>\n      <td>0.051123</td>\n    </tr>\n    <tr>\n      <th>98104</th>\n      <td>98.104</td>\n      <td>0.043455</td>\n    </tr>\n  </tbody>\n</table>\n</div>"
     },
     "execution_count": 64,
     "metadata": {},
     "output_type": "execute_result"
    }
   ],
   "source": [
    "tot_signal = read_dataFile(\"data_csv/41226 DA.dat\", \"\")\n",
    "tot_signal = tot_signal.dropna(axis=1)\n",
    "fragment_df = tot_signal[(tot_signal.t >= 98.1) & (tot_signal.t <= 127.8)]\n",
    "fragment_df.head()"
   ],
   "metadata": {
    "collapsed": false,
    "ExecuteTime": {
     "start_time": "2024-04-06T03:04:41.104059Z",
     "end_time": "2024-04-06T03:04:42.835784Z"
    }
   }
  },
  {
   "cell_type": "code",
   "execution_count": null,
   "outputs": [],
   "source": [
    "fragment_df.to_csv(\"data_csv/41226 DA_fragment.csv\", index=False)"
   ],
   "metadata": {
    "collapsed": false,
    "ExecuteTime": {
     "start_time": "2024-04-06T03:03:41.323817Z",
     "end_time": "2024-04-06T03:03:41.396874Z"
    }
   }
  },
  {
   "cell_type": "code",
   "execution_count": null,
   "outputs": [],
   "source": [],
   "metadata": {
    "collapsed": false
   }
  }
 ],
 "metadata": {
  "kernelspec": {
   "display_name": "Python 3",
   "language": "python",
   "name": "python3"
  },
  "language_info": {
   "codemirror_mode": {
    "name": "ipython",
    "version": 2
   },
   "file_extension": ".py",
   "mimetype": "text/x-python",
   "name": "python",
   "nbconvert_exporter": "python",
   "pygments_lexer": "ipython2",
   "version": "2.7.6"
  }
 },
 "nbformat": 4,
 "nbformat_minor": 0
}
