{
 "cells": [
  {
   "cell_type": "code",
   "execution_count": 1,
   "id": "547091ca-c285-488a-8092-26e8b1fb6c59",
   "metadata": {},
   "outputs": [],
   "source": [
    "!pip install keras-tcn > nul 2>&1\n",
    "!pip install joblib > nul 2>&1"
   ]
  },
  {
   "cell_type": "code",
   "execution_count": null,
   "id": "1b5f0c42-bf8d-450f-aa69-6a2ecb1a5ac2",
   "metadata": {
    "ExecuteTime": {
     "end_time": "2024-06-26T12:41:01.745393Z",
     "start_time": "2024-06-26T12:40:22.947435Z"
    },
    "editable": true,
    "slideshow": {
     "slide_type": ""
    },
    "tags": []
   },
   "outputs": [],
   "source": [
    "# args from CL: filename, SIGNAL_RATE, ch1, ch2\n",
    "%run Detecting_system.py 41651-DBS-new.txt 10 ch9 ch10"
   ]
  },
  {
   "cell_type": "code",
   "execution_count": null,
   "id": "41f506a5-1ac0-4009-8523-6ff1905d6fde",
   "metadata": {},
   "outputs": [],
   "source": [
    "# args from CL: filename, SIGNAL_RATE, ch1, ch2\n",
    "%run Detecting_system.py 41651-DBS-new.txt 10 ch11 ch12"
   ]
  },
  {
   "cell_type": "code",
   "execution_count": null,
   "id": "1d3958a0-23dc-4cc6-9341-9183e35ce59d",
   "metadata": {},
   "outputs": [],
   "source": []
  }
 ],
 "metadata": {
  "kernelspec": {
   "display_name": "Python 3 (ipykernel)",
   "language": "python",
   "name": "python3"
  },
  "language_info": {
   "codemirror_mode": {
    "name": "ipython",
    "version": 3
   },
   "file_extension": ".py",
   "mimetype": "text/x-python",
   "name": "python",
   "nbconvert_exporter": "python",
   "pygments_lexer": "ipython3",
   "version": "3.11.7"
  }
 },
 "nbformat": 4,
 "nbformat_minor": 5
}
