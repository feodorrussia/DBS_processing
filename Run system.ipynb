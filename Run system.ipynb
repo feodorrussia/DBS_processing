{
 "cells": [
  {
   "cell_type": "code",
   "execution_count": 1,
   "id": "547091ca-c285-488a-8092-26e8b1fb6c59",
   "metadata": {},
   "outputs": [],
   "source": [
    "!pip install keras-tcn > nul 2>&1\n",
    "!pip install joblib > nul 2>&1"
   ]
  },
  {
   "cell_type": "code",
   "execution_count": 2,
   "id": "1b5f0c42-bf8d-450f-aa69-6a2ecb1a5ac2",
   "metadata": {
    "editable": true,
    "slideshow": {
     "slide_type": ""
    },
    "tags": []
   },
   "outputs": [
    {
     "name": "stdin",
     "output_type": "stream",
     "text": [
      "Введите путь к запускаемому файлу (Plasma_processing/):  \n",
      "Введите путь к файлам с данными относительно запускаемого файла (data_csv/):  data_csv/\n",
      "Введите имя файла. Доступные файлы:\n",
      "41651 DBS new.txt\n",
      "Dref-44330.dat\n",
      "Dref44330.sht_exportGlobus2.dat\n",
      "DRef44330.sht_exportGlobus2.txt\n",
      "----------\n",
      " 41651 DBS new.txt\n"
     ]
    },
    {
     "name": "stdout",
     "output_type": "stream",
     "text": [
      "\n",
      "#log: Выбран файл 41651 DBS new.txt (FILE_ID: 41651)\n",
      "#log: Файл 41651 DBS new.txt считан успешно. Tooks - 10.27 s.\n"
     ]
    },
    {
     "name": "stdin",
     "output_type": "stream",
     "text": [
      "\n",
      "Введите частоту дискретизации для данного сигнала (4 / 10):  10\n",
      "\n",
      "Доступные каналы: ch1 ch2 ch3 ch4 ch5 ch6 ch7 ch8 ch9 ch10 ch11 ch12\n",
      "----------\n",
      "Введите каналы для анализа:  ch9 ch10\n"
     ]
    },
    {
     "name": "stdout",
     "output_type": "stream",
     "text": [
      "\n",
      "#log: Каналы ch9, ch10 считаны успешно\n",
      "\n",
      "#log: Начата предварительная обработка данных.\n",
      "|...."
     ]
    },
    {
     "ename": "KeyboardInterrupt",
     "evalue": "",
     "output_type": "error",
     "traceback": [
      "\u001b[1;31m---------------------------------------------------------------------------\u001b[0m",
      "\u001b[1;31mKeyboardInterrupt\u001b[0m                         Traceback (most recent call last)",
      "File \u001b[1;32m~\\Work\\Projects\\Plasma_processing\\Detecting_system.py:184\u001b[0m\n\u001b[0;32m    181\u001b[0m \u001b[38;5;28;01mfor\u001b[39;00m ch \u001b[38;5;129;01min\u001b[39;00m channels:\n\u001b[0;32m    182\u001b[0m     y\u001b[38;5;241m.\u001b[39mappend(np\u001b[38;5;241m.\u001b[39marray(selected_data[ch][(selected_data\u001b[38;5;241m.\u001b[39mt \u001b[38;5;241m>\u001b[39m \u001b[38;5;241m-\u001b[39mnp\u001b[38;5;241m.\u001b[39minf) \u001b[38;5;241m&\u001b[39m (selected_data\u001b[38;5;241m.\u001b[39mt \u001b[38;5;241m<\u001b[39m np\u001b[38;5;241m.\u001b[39minf)]))\n\u001b[1;32m--> 184\u001b[0m detect_function(x, y, filename, meta, channels, proj_path, data_path)\n\u001b[0;32m    185\u001b[0m gc\u001b[38;5;241m.\u001b[39mcollect()\n\u001b[0;32m    187\u001b[0m channels \u001b[38;5;241m=\u001b[39m get_channel(df)\n",
      "File \u001b[1;32m~\\Work\\Projects\\Plasma_processing\\Detecting_system.py:71\u001b[0m, in \u001b[0;36mdetect_function\u001b[1;34m(data_t, data_ch, file_name, signal_meta, signal_channels, path_to_proj, path_to_csv)\u001b[0m\n\u001b[0;32m     69\u001b[0m \u001b[38;5;28mprint\u001b[39m(\u001b[38;5;124m\"\u001b[39m\u001b[38;5;130;01m\\n\u001b[39;00m\u001b[38;5;124m#log: Начата предварительная обработка данных.\u001b[39m\u001b[38;5;124m\"\u001b[39m)\n\u001b[0;32m     70\u001b[0m start \u001b[38;5;241m=\u001b[39m time\u001b[38;5;241m.\u001b[39mtime()\n\u001b[1;32m---> 71\u001b[0m fragments \u001b[38;5;241m=\u001b[39m fft_butter_skewness_filtering(data_t, data_ch, SIGNAL_RATE, f_disp\u001b[38;5;241m=\u001b[39m\u001b[38;5;28;01mTrue\u001b[39;00m)\n\u001b[0;32m     72\u001b[0m \u001b[38;5;66;03m# log\u001b[39;00m\n\u001b[0;32m     73\u001b[0m \u001b[38;5;28mprint\u001b[39m(\n\u001b[0;32m     74\u001b[0m     \u001b[38;5;124mf\u001b[39m\u001b[38;5;124m\"\u001b[39m\u001b[38;5;124m#log: Предварительная обработка и фильтрация выполнена успешно. Tooks - \u001b[39m\u001b[38;5;132;01m{\u001b[39;00m\u001b[38;5;28mround\u001b[39m(time\u001b[38;5;241m.\u001b[39mtime()\u001b[38;5;250m \u001b[39m\u001b[38;5;241m-\u001b[39m\u001b[38;5;250m \u001b[39mstart,\u001b[38;5;250m \u001b[39m\u001b[38;5;241m2\u001b[39m)\u001b[38;5;250m \u001b[39m\u001b[38;5;241m*\u001b[39m\u001b[38;5;250m \u001b[39m\u001b[38;5;241m1\u001b[39m\u001b[38;5;132;01m}\u001b[39;00m\u001b[38;5;124m s.\u001b[39m\u001b[38;5;124m\"\u001b[39m)\n",
      "File \u001b[1;32m~\\Work\\Projects\\Plasma_processing\\source\\Signal_processing.py:204\u001b[0m, in \u001b[0;36mfft_butter_skewness_filtering\u001b[1;34m(t_data, signal_data, rate, f_disp)\u001b[0m\n\u001b[0;32m    201\u001b[0m filter_values \u001b[38;5;241m=\u001b[39m np\u001b[38;5;241m.\u001b[39mvectorize(\u001b[38;5;28;01mlambda\u001b[39;00m x: down_to_zero(x, edge\u001b[38;5;241m=\u001b[39mfft_v\u001b[38;5;241m.\u001b[39mmax() \u001b[38;5;241m*\u001b[39m \u001b[38;5;241m0.05\u001b[39m))\n\u001b[0;32m    202\u001b[0m fft_v_filter \u001b[38;5;241m=\u001b[39m filter_values(fft_v)\n\u001b[1;32m--> 204\u001b[0m frequency \u001b[38;5;241m=\u001b[39m np\u001b[38;5;241m.\u001b[39munique(np\u001b[38;5;241m.\u001b[39mabs(np\u001b[38;5;241m.\u001b[39mfft\u001b[38;5;241m.\u001b[39mfftfreq(fragment_d1\u001b[38;5;241m.\u001b[39mshape[\u001b[38;5;241m0\u001b[39m])))\n\u001b[0;32m    205\u001b[0m frequency \u001b[38;5;241m=\u001b[39m frequency[(frequency \u001b[38;5;241m>\u001b[39m\u001b[38;5;241m=\u001b[39m \u001b[38;5;241m0.0\u001b[39m) \u001b[38;5;241m&\u001b[39m (frequency \u001b[38;5;241m<\u001b[39m\u001b[38;5;241m=\u001b[39m \u001b[38;5;241m0.1\u001b[39m)]\n\u001b[0;32m    206\u001b[0m fft_v_filter \u001b[38;5;241m=\u001b[39m fft_v_filter[:frequency\u001b[38;5;241m.\u001b[39mshape[\u001b[38;5;241m0\u001b[39m]]\n",
      "File \u001b[1;32m~\\AppData\\Local\\anaconda3\\Lib\\site-packages\\numpy\\lib\\arraysetops.py:274\u001b[0m, in \u001b[0;36munique\u001b[1;34m(ar, return_index, return_inverse, return_counts, axis, equal_nan)\u001b[0m\n\u001b[0;32m    272\u001b[0m ar \u001b[38;5;241m=\u001b[39m np\u001b[38;5;241m.\u001b[39masanyarray(ar)\n\u001b[0;32m    273\u001b[0m \u001b[38;5;28;01mif\u001b[39;00m axis \u001b[38;5;129;01mis\u001b[39;00m \u001b[38;5;28;01mNone\u001b[39;00m:\n\u001b[1;32m--> 274\u001b[0m     ret \u001b[38;5;241m=\u001b[39m _unique1d(ar, return_index, return_inverse, return_counts, \n\u001b[0;32m    275\u001b[0m                     equal_nan\u001b[38;5;241m=\u001b[39mequal_nan)\n\u001b[0;32m    276\u001b[0m     \u001b[38;5;28;01mreturn\u001b[39;00m _unpack_tuple(ret)\n\u001b[0;32m    278\u001b[0m \u001b[38;5;66;03m# axis was specified and not None\u001b[39;00m\n",
      "File \u001b[1;32m~\\AppData\\Local\\anaconda3\\Lib\\site-packages\\numpy\\lib\\arraysetops.py:336\u001b[0m, in \u001b[0;36m_unique1d\u001b[1;34m(ar, return_index, return_inverse, return_counts, equal_nan)\u001b[0m\n\u001b[0;32m    334\u001b[0m     aux \u001b[38;5;241m=\u001b[39m ar[perm]\n\u001b[0;32m    335\u001b[0m \u001b[38;5;28;01melse\u001b[39;00m:\n\u001b[1;32m--> 336\u001b[0m     ar\u001b[38;5;241m.\u001b[39msort()\n\u001b[0;32m    337\u001b[0m     aux \u001b[38;5;241m=\u001b[39m ar\n\u001b[0;32m    338\u001b[0m mask \u001b[38;5;241m=\u001b[39m np\u001b[38;5;241m.\u001b[39mempty(aux\u001b[38;5;241m.\u001b[39mshape, dtype\u001b[38;5;241m=\u001b[39mnp\u001b[38;5;241m.\u001b[39mbool_)\n",
      "\u001b[1;31mKeyboardInterrupt\u001b[0m: "
     ]
    }
   ],
   "source": [
    "%run Detecting_system.py"
   ]
  },
  {
   "cell_type": "code",
   "execution_count": null,
   "id": "41f506a5-1ac0-4009-8523-6ff1905d6fde",
   "metadata": {},
   "outputs": [],
   "source": []
  }
 ],
 "metadata": {
  "kernelspec": {
   "display_name": "Python 3 (ipykernel)",
   "language": "python",
   "name": "python3"
  },
  "language_info": {
   "codemirror_mode": {
    "name": "ipython",
    "version": 3
   },
   "file_extension": ".py",
   "mimetype": "text/x-python",
   "name": "python",
   "nbconvert_exporter": "python",
   "pygments_lexer": "ipython3",
   "version": "3.11.7"
  }
 },
 "nbformat": 4,
 "nbformat_minor": 5
}
