{
 "cells": [
  {
   "cell_type": "code",
   "execution_count": 1,
   "id": "547091ca-c285-488a-8092-26e8b1fb6c59",
   "metadata": {},
   "outputs": [],
   "source": [
    "!pip install keras-tcn > nul 2>&1\n",
    "!pip install joblib > nul 2>&1"
   ]
  },
  {
   "cell_type": "code",
   "execution_count": 4,
   "id": "1b5f0c42-bf8d-450f-aa69-6a2ecb1a5ac2",
   "metadata": {
    "editable": true,
    "slideshow": {
     "slide_type": ""
    },
    "tags": [],
    "ExecuteTime": {
     "start_time": "2024-06-26T12:40:22.947435Z",
     "end_time": "2024-06-26T12:41:01.745393Z"
    }
   },
   "outputs": [
    {
     "name": "stdout",
     "output_type": "stream",
     "text": [
      "Sys args:  ['Detecting_system.py', '41651-DBS-new.txt', '10', 'ch9', 'ch10']\n",
      "\n",
      "#log: Выбран файл 41651-DBS-new.txt (FILE_ID: 41651)\n",
      "#log: Файл 41651-DBS-new.txt считан успешно. Tooks - 27.62 s.\n",
      "\n",
      "#log: Начата предварительная обработка данных.\n",
      "|"
     ]
    },
    {
     "ename": "KeyboardInterrupt",
     "evalue": "",
     "output_type": "error",
     "traceback": [
      "\u001B[1;31m---------------------------------------------------------------------------\u001B[0m",
      "\u001B[1;31mKeyboardInterrupt\u001B[0m                         Traceback (most recent call last)",
      "File \u001B[1;32mD:\\Edu\\Lab\\Plasma_processing\\Detecting_system.py:175\u001B[0m\n\u001B[0;32m    172\u001B[0m \u001B[38;5;28;01mif\u001B[39;00m \u001B[38;5;18m__name__\u001B[39m \u001B[38;5;241m==\u001B[39m \u001B[38;5;124m\"\u001B[39m\u001B[38;5;124m__main__\u001B[39m\u001B[38;5;124m\"\u001B[39m \u001B[38;5;129;01mand\u001B[39;00m \u001B[38;5;129;01mnot\u001B[39;00m (sys\u001B[38;5;241m.\u001B[39mstdin \u001B[38;5;129;01mand\u001B[39;00m sys\u001B[38;5;241m.\u001B[39mstdin\u001B[38;5;241m.\u001B[39misatty()):\n\u001B[0;32m    173\u001B[0m     \u001B[38;5;66;03m# args from CL: filename, SIGNAL_RATE, ch1, ch2\u001B[39;00m\n\u001B[0;32m    174\u001B[0m     \u001B[38;5;28mprint\u001B[39m(\u001B[38;5;124m\"\u001B[39m\u001B[38;5;124mSys args: \u001B[39m\u001B[38;5;124m\"\u001B[39m, sys\u001B[38;5;241m.\u001B[39margv)\n\u001B[1;32m--> 175\u001B[0m     \u001B[43minit_proc\u001B[49m\u001B[43m(\u001B[49m\u001B[43msys\u001B[49m\u001B[38;5;241;43m.\u001B[39;49m\u001B[43margv\u001B[49m\u001B[43m[\u001B[49m\u001B[38;5;241;43m1\u001B[39;49m\u001B[43m]\u001B[49m\u001B[43m,\u001B[49m\u001B[43m \u001B[49m\u001B[38;5;28;43mint\u001B[39;49m\u001B[43m(\u001B[49m\u001B[43msys\u001B[49m\u001B[38;5;241;43m.\u001B[39;49m\u001B[43margv\u001B[49m\u001B[43m[\u001B[49m\u001B[38;5;241;43m2\u001B[39;49m\u001B[43m]\u001B[49m\u001B[43m)\u001B[49m\u001B[43m,\u001B[49m\u001B[43m \u001B[49m\u001B[43msys\u001B[49m\u001B[38;5;241;43m.\u001B[39;49m\u001B[43margv\u001B[49m\u001B[43m[\u001B[49m\u001B[38;5;241;43m3\u001B[39;49m\u001B[43m]\u001B[49m\u001B[43m,\u001B[49m\u001B[43m \u001B[49m\u001B[43msys\u001B[49m\u001B[38;5;241;43m.\u001B[39;49m\u001B[43margv\u001B[49m\u001B[43m[\u001B[49m\u001B[38;5;241;43m4\u001B[39;49m\u001B[43m]\u001B[49m\u001B[43m)\u001B[49m\n",
      "File \u001B[1;32mD:\\Edu\\Lab\\Plasma_processing\\Detecting_system.py:166\u001B[0m, in \u001B[0;36minit_proc\u001B[1;34m(filename, SIGNAL_RATE, ch1, ch2)\u001B[0m\n\u001B[0;32m    163\u001B[0m \u001B[38;5;28;01mfor\u001B[39;00m ch \u001B[38;5;129;01min\u001B[39;00m channels:\n\u001B[0;32m    164\u001B[0m     y\u001B[38;5;241m.\u001B[39mappend(np\u001B[38;5;241m.\u001B[39marray(selected_data[ch][(selected_data\u001B[38;5;241m.\u001B[39mt \u001B[38;5;241m>\u001B[39m \u001B[38;5;241m-\u001B[39mnp\u001B[38;5;241m.\u001B[39minf) \u001B[38;5;241m&\u001B[39m (selected_data\u001B[38;5;241m.\u001B[39mt \u001B[38;5;241m<\u001B[39m np\u001B[38;5;241m.\u001B[39minf)]))\n\u001B[1;32m--> 166\u001B[0m \u001B[43mdetect_function\u001B[49m\u001B[43m(\u001B[49m\u001B[43mx\u001B[49m\u001B[43m,\u001B[49m\u001B[43m \u001B[49m\u001B[43my\u001B[49m\u001B[43m,\u001B[49m\u001B[43m \u001B[49m\u001B[43mfilename\u001B[49m\u001B[43m,\u001B[49m\u001B[43m \u001B[49m\u001B[43mmeta\u001B[49m\u001B[43m,\u001B[49m\u001B[43m \u001B[49m\u001B[43mchannels\u001B[49m\u001B[43m,\u001B[49m\u001B[43m \u001B[49m\u001B[43mproj_path\u001B[49m\u001B[43m,\u001B[49m\u001B[43m \u001B[49m\u001B[43mdata_path\u001B[49m\u001B[43m,\u001B[49m\u001B[43m \u001B[49m\u001B[43mSIGNAL_RATE\u001B[49m\u001B[43m)\u001B[49m\n\u001B[0;32m    167\u001B[0m gc\u001B[38;5;241m.\u001B[39mcollect()\n",
      "File \u001B[1;32mD:\\Edu\\Lab\\Plasma_processing\\Detecting_system.py:48\u001B[0m, in \u001B[0;36mdetect_function\u001B[1;34m(data_t, data_ch, file_name, signal_meta, signal_channels, path_to_proj, path_to_csv, SIGNAL_RATE)\u001B[0m\n\u001B[0;32m     46\u001B[0m \u001B[38;5;28mprint\u001B[39m(\u001B[38;5;124m\"\u001B[39m\u001B[38;5;130;01m\\n\u001B[39;00m\u001B[38;5;124m#log: Начата предварительная обработка данных.\u001B[39m\u001B[38;5;124m\"\u001B[39m)\n\u001B[0;32m     47\u001B[0m start \u001B[38;5;241m=\u001B[39m time\u001B[38;5;241m.\u001B[39mtime()\n\u001B[1;32m---> 48\u001B[0m fragments \u001B[38;5;241m=\u001B[39m \u001B[43mfft_butter_skewness_filtering\u001B[49m\u001B[43m(\u001B[49m\u001B[43mdata_t\u001B[49m\u001B[43m,\u001B[49m\u001B[43m \u001B[49m\u001B[43mdata_ch\u001B[49m\u001B[43m,\u001B[49m\u001B[43m \u001B[49m\u001B[43mSIGNAL_RATE\u001B[49m\u001B[43m,\u001B[49m\u001B[43m \u001B[49m\u001B[43mf_disp\u001B[49m\u001B[38;5;241;43m=\u001B[39;49m\u001B[38;5;28;43;01mTrue\u001B[39;49;00m\u001B[43m)\u001B[49m\n\u001B[0;32m     49\u001B[0m \u001B[38;5;66;03m# log\u001B[39;00m\n\u001B[0;32m     50\u001B[0m \u001B[38;5;28mprint\u001B[39m(\n\u001B[0;32m     51\u001B[0m     \u001B[38;5;124mf\u001B[39m\u001B[38;5;124m\"\u001B[39m\u001B[38;5;124m#log: Предварительная обработка и фильтрация выполнена успешно. Tooks - \u001B[39m\u001B[38;5;132;01m{\u001B[39;00m\u001B[38;5;28mround\u001B[39m(time\u001B[38;5;241m.\u001B[39mtime()\u001B[38;5;250m \u001B[39m\u001B[38;5;241m-\u001B[39m\u001B[38;5;250m \u001B[39mstart,\u001B[38;5;250m \u001B[39m\u001B[38;5;241m2\u001B[39m)\u001B[38;5;250m \u001B[39m\u001B[38;5;241m*\u001B[39m\u001B[38;5;250m \u001B[39m\u001B[38;5;241m1\u001B[39m\u001B[38;5;132;01m}\u001B[39;00m\u001B[38;5;124m s.\u001B[39m\u001B[38;5;124m\"\u001B[39m)\n",
      "File \u001B[1;32mD:\\Edu\\Lab\\Plasma_processing\\source\\Signal_processing.py:204\u001B[0m, in \u001B[0;36mfft_butter_skewness_filtering\u001B[1;34m(t_data, signal_data, rate, f_disp)\u001B[0m\n\u001B[0;32m    201\u001B[0m filter_values \u001B[38;5;241m=\u001B[39m np\u001B[38;5;241m.\u001B[39mvectorize(\u001B[38;5;28;01mlambda\u001B[39;00m x: down_to_zero(x, edge\u001B[38;5;241m=\u001B[39mfft_v\u001B[38;5;241m.\u001B[39mmax() \u001B[38;5;241m*\u001B[39m \u001B[38;5;241m0.05\u001B[39m))\n\u001B[0;32m    202\u001B[0m fft_v_filter \u001B[38;5;241m=\u001B[39m filter_values(fft_v)\n\u001B[1;32m--> 204\u001B[0m frequency \u001B[38;5;241m=\u001B[39m \u001B[43mnp\u001B[49m\u001B[38;5;241;43m.\u001B[39;49m\u001B[43munique\u001B[49m\u001B[43m(\u001B[49m\u001B[43mnp\u001B[49m\u001B[38;5;241;43m.\u001B[39;49m\u001B[43mabs\u001B[49m\u001B[43m(\u001B[49m\u001B[43mnp\u001B[49m\u001B[38;5;241;43m.\u001B[39;49m\u001B[43mfft\u001B[49m\u001B[38;5;241;43m.\u001B[39;49m\u001B[43mfftfreq\u001B[49m\u001B[43m(\u001B[49m\u001B[43mfragment_d1\u001B[49m\u001B[38;5;241;43m.\u001B[39;49m\u001B[43mshape\u001B[49m\u001B[43m[\u001B[49m\u001B[38;5;241;43m0\u001B[39;49m\u001B[43m]\u001B[49m\u001B[43m)\u001B[49m\u001B[43m)\u001B[49m\u001B[43m)\u001B[49m\n\u001B[0;32m    205\u001B[0m frequency \u001B[38;5;241m=\u001B[39m frequency[(frequency \u001B[38;5;241m>\u001B[39m\u001B[38;5;241m=\u001B[39m \u001B[38;5;241m0.0\u001B[39m) \u001B[38;5;241m&\u001B[39m (frequency \u001B[38;5;241m<\u001B[39m\u001B[38;5;241m=\u001B[39m \u001B[38;5;241m0.1\u001B[39m)]\n\u001B[0;32m    206\u001B[0m fft_v_filter \u001B[38;5;241m=\u001B[39m fft_v_filter[:frequency\u001B[38;5;241m.\u001B[39mshape[\u001B[38;5;241m0\u001B[39m]]\n",
      "File \u001B[1;32mD:\\Edu\\Lab\\Plasma_processing\\venv\\lib\\site-packages\\numpy\\lib\\arraysetops.py:274\u001B[0m, in \u001B[0;36munique\u001B[1;34m(ar, return_index, return_inverse, return_counts, axis, equal_nan)\u001B[0m\n\u001B[0;32m    272\u001B[0m ar \u001B[38;5;241m=\u001B[39m np\u001B[38;5;241m.\u001B[39masanyarray(ar)\n\u001B[0;32m    273\u001B[0m \u001B[38;5;28;01mif\u001B[39;00m axis \u001B[38;5;129;01mis\u001B[39;00m \u001B[38;5;28;01mNone\u001B[39;00m:\n\u001B[1;32m--> 274\u001B[0m     ret \u001B[38;5;241m=\u001B[39m \u001B[43m_unique1d\u001B[49m\u001B[43m(\u001B[49m\u001B[43mar\u001B[49m\u001B[43m,\u001B[49m\u001B[43m \u001B[49m\u001B[43mreturn_index\u001B[49m\u001B[43m,\u001B[49m\u001B[43m \u001B[49m\u001B[43mreturn_inverse\u001B[49m\u001B[43m,\u001B[49m\u001B[43m \u001B[49m\u001B[43mreturn_counts\u001B[49m\u001B[43m,\u001B[49m\u001B[43m \u001B[49m\n\u001B[0;32m    275\u001B[0m \u001B[43m                    \u001B[49m\u001B[43mequal_nan\u001B[49m\u001B[38;5;241;43m=\u001B[39;49m\u001B[43mequal_nan\u001B[49m\u001B[43m)\u001B[49m\n\u001B[0;32m    276\u001B[0m     \u001B[38;5;28;01mreturn\u001B[39;00m _unpack_tuple(ret)\n\u001B[0;32m    278\u001B[0m \u001B[38;5;66;03m# axis was specified and not None\u001B[39;00m\n",
      "File \u001B[1;32mD:\\Edu\\Lab\\Plasma_processing\\venv\\lib\\site-packages\\numpy\\lib\\arraysetops.py:336\u001B[0m, in \u001B[0;36m_unique1d\u001B[1;34m(ar, return_index, return_inverse, return_counts, equal_nan)\u001B[0m\n\u001B[0;32m    334\u001B[0m     aux \u001B[38;5;241m=\u001B[39m ar[perm]\n\u001B[0;32m    335\u001B[0m \u001B[38;5;28;01melse\u001B[39;00m:\n\u001B[1;32m--> 336\u001B[0m     \u001B[43mar\u001B[49m\u001B[38;5;241;43m.\u001B[39;49m\u001B[43msort\u001B[49m\u001B[43m(\u001B[49m\u001B[43m)\u001B[49m\n\u001B[0;32m    337\u001B[0m     aux \u001B[38;5;241m=\u001B[39m ar\n\u001B[0;32m    338\u001B[0m mask \u001B[38;5;241m=\u001B[39m np\u001B[38;5;241m.\u001B[39mempty(aux\u001B[38;5;241m.\u001B[39mshape, dtype\u001B[38;5;241m=\u001B[39mnp\u001B[38;5;241m.\u001B[39mbool_)\n",
      "\u001B[1;31mKeyboardInterrupt\u001B[0m: "
     ]
    }
   ],
   "source": [
    "# args from CL: filename, SIGNAL_RATE, ch1, ch2\n",
    "%run Detecting_system.py 41651-DBS-new.txt 10 ch9 ch10"
   ]
  },
  {
   "cell_type": "code",
   "execution_count": null,
   "id": "41f506a5-1ac0-4009-8523-6ff1905d6fde",
   "metadata": {},
   "outputs": [],
   "source": []
  }
 ],
 "metadata": {
  "kernelspec": {
   "display_name": "Python 3 (ipykernel)",
   "language": "python",
   "name": "python3"
  },
  "language_info": {
   "codemirror_mode": {
    "name": "ipython",
    "version": 3
   },
   "file_extension": ".py",
   "mimetype": "text/x-python",
   "name": "python",
   "nbconvert_exporter": "python",
   "pygments_lexer": "ipython3",
   "version": "3.11.7"
  }
 },
 "nbformat": 4,
 "nbformat_minor": 5
}
